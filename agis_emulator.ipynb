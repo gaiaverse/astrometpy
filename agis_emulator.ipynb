{
 "cells": [
  {
   "cell_type": "code",
   "execution_count": 2,
   "metadata": {},
   "outputs": [
    {
     "name": "stdout",
     "output_type": "stream",
     "text": [
      "The autoreload extension is already loaded. To reload it, use:\n",
      "  %reload_ext autoreload\n"
     ]
    }
   ],
   "source": [
    "%load_ext autoreload\n",
    "%autoreload 2\n",
    "\n",
    "import os, numpy as np, pickle, pandas as pd, tqdm, time\n",
    "from astropy.coordinates import SkyCoord"
   ]
  },
  {
   "cell_type": "markdown",
   "metadata": {},
   "source": [
    "## Source"
   ]
  },
  {
   "cell_type": "code",
   "execution_count": 3,
   "metadata": {},
   "outputs": [],
   "source": [
    "ra, dec = 0, 0; G=16\n",
    "coord = SkyCoord(ra, dec, unit='deg', frame='icrs')"
   ]
  },
  {
   "cell_type": "code",
   "execution_count": 4,
   "metadata": {},
   "outputs": [],
   "source": [
    "# Astrometry - deg, deg, mas, mas/y, mas/y\n",
    "r5d = np.array([ra, dec, 12., 20., 20.])"
   ]
  },
  {
   "cell_type": "markdown",
   "metadata": {},
   "source": [
    "# Query Scanning law\n",
    "- Replace with scanning law repository"
   ]
  },
  {
   "cell_type": "code",
   "execution_count": 5,
   "metadata": {},
   "outputs": [
    {
     "ename": "ModuleNotFoundError",
     "evalue": "No module named 'scanninglaw'",
     "output_type": "error",
     "traceback": [
      "\u001b[0;31m---------------------------------------------------------------------------\u001b[0m",
      "\u001b[0;31mModuleNotFoundError\u001b[0m                       Traceback (most recent call last)",
      "\u001b[0;32m<ipython-input-5-44e087955edf>\u001b[0m in \u001b[0;36m<module>\u001b[0;34m\u001b[0m\n\u001b[0;32m----> 1\u001b[0;31m \u001b[0;32mimport\u001b[0m \u001b[0mscanninglaw\u001b[0m\u001b[0;34m.\u001b[0m\u001b[0mtimes\u001b[0m \u001b[0;32mas\u001b[0m \u001b[0msl\u001b[0m\u001b[0;34m\u001b[0m\u001b[0;34m\u001b[0m\u001b[0m\n\u001b[0m\u001b[1;32m      2\u001b[0m \u001b[0;32mfrom\u001b[0m \u001b[0mscanninglaw\u001b[0m\u001b[0;34m.\u001b[0m\u001b[0msource\u001b[0m \u001b[0;32mimport\u001b[0m \u001b[0mSource\u001b[0m\u001b[0;34m\u001b[0m\u001b[0;34m\u001b[0m\u001b[0m\n",
      "\u001b[0;31mModuleNotFoundError\u001b[0m: No module named 'scanninglaw'"
     ]
    }
   ],
   "source": [
    "import scanninglaw.times as sl\n",
    "from scanninglaw.source import Source"
   ]
  },
  {
   "cell_type": "code",
   "execution_count": 5,
   "metadata": {},
   "outputs": [
    {
     "name": "stdout",
     "output_type": "stream",
     "text": [
      "Loading auxilliary data ...\n",
      "t = 35.815 s\n",
      "  auxilliary:  15.187 s\n",
      "          sf:   3.063 s\n",
      "interpolator:  17.565 s\n"
     ]
    }
   ],
   "source": [
    "dr2_sl = sl.dr2_sl(version='cog')"
   ]
  },
  {
   "cell_type": "code",
   "execution_count": 6,
   "metadata": {},
   "outputs": [],
   "source": [
    "c = Source(coord, photometry={'gaia_g':G})\n",
    "scan_law = dr2_sl(c, return_times=True, return_angles=True)"
   ]
  },
  {
   "cell_type": "code",
   "execution_count": 19,
   "metadata": {},
   "outputs": [],
   "source": [
    "nObs=100\n",
    "# Time in jyear\n",
    "times = np.sort(2016+(34/12)*(-0.5+np.random.rand(nObs)))\n",
    "# Scan angles in degrees\n",
    "angles = 360*np.random.rand(nObs)"
   ]
  },
  {
   "cell_type": "markdown",
   "metadata": {},
   "source": [
    "# Fit astrometry"
   ]
  },
  {
   "cell_type": "code",
   "execution_count": 20,
   "metadata": {},
   "outputs": [],
   "source": [
    "import astromet, agis"
   ]
  },
  {
   "cell_type": "code",
   "execution_count": 21,
   "metadata": {},
   "outputs": [],
   "source": [
    "# Individual measurement error\n",
    "x_err = np.zeros(len(times))+0.3"
   ]
  },
  {
   "cell_type": "code",
   "execution_count": 22,
   "metadata": {},
   "outputs": [
    {
     "data": {
      "text/plain": [
       "{'astrometric_matched_transits': 100,\n",
       " 'visibility_periods_used': 62,\n",
       " 'astrometric_n_obs_al': 900,\n",
       " 'astrometric_params_solved': 31,\n",
       " 'ra': 0.0,\n",
       " 'ra_error': 0.01568687670212961,\n",
       " 'dec': 0.0,\n",
       " 'dec_error': 0.016267581869031607,\n",
       " 'ra_dec_corr': 0.02736829272309091,\n",
       " 'parallax': 11.95443769612815,\n",
       " 'parallax_error': 0.021334797377968083,\n",
       " 'ra_parallax_corr': 0.25082569777725194,\n",
       " 'dec_parallax_corr': 0.09789236971542449,\n",
       " 'pmra': 19.985652864246802,\n",
       " 'pmra_error': 0.016403853340818796,\n",
       " 'ra_pmra_corr': -0.39282745850520706,\n",
       " 'dec_pmra_corr': -0.026947119325618305,\n",
       " 'parallax_pmra_corr': -0.03267353071659066,\n",
       " 'pmdec': 19.986372038532867,\n",
       " 'pmdec_error': 0.018867771107103845,\n",
       " 'ra_pmdec_corr': -0.013848832361437535,\n",
       " 'dec_pmdec_corr': -0.42581259216642653,\n",
       " 'parallax_pmdec_corr': -0.012263811935531103,\n",
       " 'pmra_pmdec_corr': 0.20053330772503666,\n",
       " 'astrometric_excess_noise': 0.0,\n",
       " 'astrometric_chi2_al': 963.0410797240194,\n",
       " 'astrometric_n_good_obs_al': 900}"
      ]
     },
     "execution_count": 22,
     "metadata": {},
     "output_type": "execute_result"
    }
   ],
   "source": [
    "gaia = agis.agis(r5d.copy(), times, angles, x_err)\n",
    "gaia"
   ]
  },
  {
   "cell_type": "markdown",
   "metadata": {},
   "source": [
    "# Add some extra noise"
   ]
  },
  {
   "cell_type": "code",
   "execution_count": 11,
   "metadata": {},
   "outputs": [],
   "source": [
    "# Add 5mas excess noise\n",
    "def excess(t, e=5):\n",
    "    noise = np.random.normal(0,e,size=(2,len(t)))\n",
    "    return noise"
   ]
  },
  {
   "cell_type": "code",
   "execution_count": 12,
   "metadata": {},
   "outputs": [
    {
     "data": {
      "text/plain": [
       "({'astrometric_chi2_al': 104872.42383631156,\n",
       "  'astrometric_excess_noise': 4.838866117576092,\n",
       "  'astrometric_matched_transits': 40,\n",
       "  'astrometric_n_good_obs_al': 360,\n",
       "  'astrometric_n_obs_al': 360,\n",
       "  'astrometric_params_solved': 31,\n",
       "  'dec': 0.0,\n",
       "  'dec_error': 0.16973054120561698,\n",
       "  'dec_parallax_corr': -0.02218017883361017,\n",
       "  'dec_pmdec_corr': 0.3856304905979747,\n",
       "  'dec_pmra_corr': -0.18625291316207968,\n",
       "  'parallax': 12.152146009063118,\n",
       "  'parallax_error': 0.3678232650834633,\n",
       "  'parallax_pmdec_corr': -0.36350610777167136,\n",
       "  'parallax_pmra_corr': 0.0813780448207605,\n",
       "  'pmdec': 20.61383129404194,\n",
       "  'pmdec_error': 0.3452118955595791,\n",
       "  'pmra': 22.1064360446678,\n",
       "  'pmra_error': 0.697264562721575,\n",
       "  'pmra_pmdec_corr': 0.2533759812789544,\n",
       "  'ra': 0.0,\n",
       "  'ra_dec_corr': 0.29757032836257474,\n",
       "  'ra_error': 0.32045830254362045,\n",
       "  'ra_parallax_corr': 0.3628512370636997,\n",
       "  'ra_pmdec_corr': -0.23378258994003226,\n",
       "  'ra_pmra_corr': -0.04596540606648901,\n",
       "  'visibility_periods_used': 11},\n",
       " 17.187649007707403)"
      ]
     },
     "execution_count": 12,
     "metadata": {},
     "output_type": "execute_result"
    }
   ],
   "source": [
    "gaia = agis.agis(r5d.copy(), times, angles, x_err, extra=excess)\n",
    "gaia, np.sqrt(gaia['astrometric_chi2_al']/(gaia['astrometric_n_good_obs_al']-5))"
   ]
  },
  {
   "cell_type": "markdown",
   "metadata": {},
   "source": [
    "### astrometric_excess_noise is of order the extra noise we've added!"
   ]
  },
  {
   "cell_type": "markdown",
   "metadata": {},
   "source": [
    "# Reproduce plot from ASF paper"
   ]
  },
  {
   "cell_type": "code",
   "execution_count": 13,
   "metadata": {},
   "outputs": [],
   "source": [
    "# Plotting modules\n",
    "import matplotlib\n",
    "from pylab import cm\n",
    "import matplotlib.pyplot as plt\n",
    "from matplotlib.colors import LogNorm\n",
    "plt.rc('text', usetex=True)\n",
    "plt.rc('font', family='serif')\n",
    "plt.rc('axes', labelsize=16)\n",
    "plt.rc('xtick',labelsize=16)\n",
    "plt.rc('ytick',labelsize=16)\n",
    "plt.rc('legend',fontsize=16)\n",
    "plt.rc('font',size=16)"
   ]
  },
  {
   "cell_type": "code",
   "execution_count": 15,
   "metadata": {},
   "outputs": [],
   "source": [
    "scan_order = np.argsort(times)\n",
    "\n",
    "coords = ['ra','dec','parallax','pmra','pmdec']\n",
    "var = np.zeros((5, len(scan_order)))\n",
    "visibility_periods = np.zeros(len(scan_order))\n",
    "for ii in range(1,len(scan_order)):\n",
    "    gaia = agis.agis(r5d.copy(), times[scan_order][:ii], angles[scan_order][:ii], x_err[scan_order][:ii], G=16)\n",
    "    var[:,ii] = np.array([gaia[coords[j]+'_error']**2 for j in range(5)])\n",
    "    visibility_periods[ii]=gaia['visibility_periods_used']\n",
    "var[:,0]=1e10"
   ]
  },
  {
   "cell_type": "code",
   "execution_count": 16,
   "metadata": {},
   "outputs": [
    {
     "data": {
      "image/png": "[encoded data removed]",
      "text/plain": [
       "<Figure size 576x360 with 2 Axes>"
      ]
     },
     "metadata": {
      "needs_background": "light"
     },
     "output_type": "display_data"
    }
   ],
   "source": [
    "fig, ax = plt.subplots(1,1,figsize=(8,5))\n",
    "\n",
    "# Gaia DR2 time range\n",
    "tlimits = 2015.0 + (agis.get_gaiat(np.array([1192.13, 3750.56])) + 2455197.5 - 2457023.5 - 0.25)/365.\n",
    "\n",
    "x = np.repeat(times, 2); x=np.insert(x, (0,len(x)), tlimits)\n",
    "labels=[r'$\\alpha_0^*$', r'$\\delta_0$', r'$\\varpi$', r'$\\mu_\\alpha^*$', r'$\\mu_\\delta$']\n",
    "linestyles=['-','-',':','--','--']\n",
    "colours=[cm.Greens(0.7), cm.Purples(0.8), cm.Oranges(0.8), cm.Greens(0.7), cm.Purples(0.8)]\n",
    "\n",
    "for ii in range(5):\n",
    "    if ii<2: \n",
    "        x = np.repeat(times[scan_order], 2); x=np.insert(x, (0,len(x)), tlimits)\n",
    "        y = np.abs(np.repeat(var[ii], 2))#*(3600*1000)**2\n",
    "    else: \n",
    "        x = np.repeat(times[scan_order][visibility_periods>5], 2); x=np.insert(x, (0,len(x)), tlimits)\n",
    "        y = np.abs(np.repeat(var[ii][visibility_periods>5], 2))\n",
    "    y = np.insert(y, (0,0), (1e10,1e10))\n",
    "    plt.plot(x, np.sqrt(y), label=labels[ii], linestyle=linestyles[ii], color=colours[ii], linewidth=2)\n",
    "    \n",
    "    \n",
    "plt.xticks([2014.5, 2015.0, 2015.5, 2016.0])\n",
    "\n",
    "plt.xlabel(r'$t_\\mathrm{Gaia}$'); plt.legend(loc='lower left', ncol=1, frameon=False)\n",
    "\n",
    "plt.ylabel(r'$\\sigma_{\\alpha,\\delta,\\varpi}\\, \\mathrm{(mas)}$')\n",
    "plt.ylim(2e-2, 1e3); plt.yscale('log')\n",
    "ax2 = ax.twinx()\n",
    "plt.ylabel(r'$\\sigma_{\\mu_\\alpha,\\mu_\\delta}\\, \\mathrm{(mas/y)}$')\n",
    "plt.ylim(2e-2, 1e3); plt.yscale('log')    "
   ]
  }
 ],
 "metadata": {
  "kernelspec": {
   "display_name": "Python 3",
   "language": "python",
   "name": "python3"
  },
  "language_info": {
   "codemirror_mode": {
    "name": "ipython",
    "version": 3
   },
   "file_extension": ".py",
   "mimetype": "text/x-python",
   "name": "python",
   "nbconvert_exporter": "python",
   "pygments_lexer": "ipython3",
   "version": "3.7.7"
  }
 },
 "nbformat": 4,
 "nbformat_minor": 4
}
