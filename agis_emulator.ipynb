{
 "cells": [
  {
   "cell_type": "code",
   "execution_count": 1,
   "metadata": {},
   "outputs": [],
   "source": [
    "%load_ext autoreload\n",
    "%autoreload 2\n",
    "\n",
    "import os, numpy as np, pickle, pandas as pd, tqdm, healpy as hp, time\n",
    "from astropy.coordinates import SkyCoord"
   ]
  },
  {
   "cell_type": "markdown",
   "metadata": {},
   "source": [
    "## Source"
   ]
  },
  {
   "cell_type": "code",
   "execution_count": 2,
   "metadata": {},
   "outputs": [],
   "source": [
    "l, b = 30, 10; G=16\n",
    "coord = SkyCoord(l=l, b=b, unit='deg', frame='galactic')"
   ]
  },
  {
   "cell_type": "code",
   "execution_count": 3,
   "metadata": {},
   "outputs": [],
   "source": [
    "_ra=coord.icrs.ra.deg; _dec=coord.icrs.dec.deg"
   ]
  },
  {
   "cell_type": "code",
   "execution_count": 290,
   "metadata": {},
   "outputs": [],
   "source": [
    "# Astrometry - deg, deg, mas, mas/y, mas/y\n",
    "r5d = np.array([_ra, _dec, 12., 20., 20.])"
   ]
  },
  {
   "cell_type": "markdown",
   "metadata": {},
   "source": [
    "# Query Scanning law\n",
    "- Replace with scanning law repository"
   ]
  },
  {
   "cell_type": "code",
   "execution_count": 5,
   "metadata": {},
   "outputs": [],
   "source": [
    "import scanninglaw.times as sl\n",
    "from scanninglaw.source import Source"
   ]
  },
  {
   "cell_type": "code",
   "execution_count": 6,
   "metadata": {},
   "outputs": [
    {
     "name": "stdout",
     "output_type": "stream",
     "text": [
      "Loading auxilliary data ...\n",
      "t = 32.910 s\n",
      "  auxilliary:  15.580 s\n",
      "          sf:   2.514 s\n",
      "interpolator:  14.817 s\n"
     ]
    }
   ],
   "source": [
    "dr2_sl = sl.dr2_sl(version='cog')"
   ]
  },
  {
   "cell_type": "code",
   "execution_count": 8,
   "metadata": {},
   "outputs": [],
   "source": [
    "c = Source(coord, photometry={'gaia_g':G})\n",
    "scan_law = dr2_sl(c, return_times=True, return_angles=True)"
   ]
  },
  {
   "cell_type": "code",
   "execution_count": 9,
   "metadata": {},
   "outputs": [],
   "source": [
    "times = np.hstack(scan_law['times'])[0]\n",
    "angles = np.hstack(scan_law['angles'])[0]"
   ]
  },
  {
   "cell_type": "markdown",
   "metadata": {},
   "source": [
    "# Fit astrometry"
   ]
  },
  {
   "cell_type": "code",
   "execution_count": 291,
   "metadata": {},
   "outputs": [],
   "source": [
    "import astromet, agis"
   ]
  },
  {
   "cell_type": "code",
   "execution_count": 292,
   "metadata": {},
   "outputs": [],
   "source": [
    "# Individual measurement error\n",
    "x_err = np.zeros(len(times))+0.3"
   ]
  },
  {
   "cell_type": "code",
   "execution_count": 293,
   "metadata": {},
   "outputs": [],
   "source": [
    "# Time in jyear\n",
    "times_jy = 2010+times/365.25"
   ]
  },
  {
   "cell_type": "code",
   "execution_count": 294,
   "metadata": {},
   "outputs": [
    {
     "data": {
      "text/plain": [
       "array([272.62839734,   1.96849569,  12.        ,  20.        ,\n",
       "        20.        ])"
      ]
     },
     "execution_count": 294,
     "metadata": {},
     "output_type": "execute_result"
    }
   ],
   "source": [
    "r5d"
   ]
  },
  {
   "cell_type": "code",
   "execution_count": 300,
   "metadata": {},
   "outputs": [
    {
     "data": {
      "text/plain": [
       "({'astrometric_chi2_al': 110.95928455566226,\n",
       "  'astrometric_excess_noise': 0.0,\n",
       "  'astrometric_matched_transits': 16,\n",
       "  'astrometric_n_good_obs_al': 144,\n",
       "  'astrometric_n_obs_al': 144,\n",
       "  'astrometric_params_solved': 31,\n",
       "  'dec': 1.9684956873237487,\n",
       "  'dec_error': 0.0380233843321813,\n",
       "  'dec_parallax_corr': -0.21978091672959246,\n",
       "  'dec_pmdec_corr': -0.2610706540232372,\n",
       "  'dec_pmra_corr': -0.3171225291453917,\n",
       "  'parallax': 11.933990269899368,\n",
       "  'parallax_error': 0.0438876096025598,\n",
       "  'parallax_pmdec_corr': 0.1661839320186707,\n",
       "  'parallax_pmra_corr': -0.16791245326161042,\n",
       "  'pmdec': 20.060811638832092,\n",
       "  'pmdec_error': 0.06603055323174313,\n",
       "  'pmra': 20.09654450416565,\n",
       "  'pmra_error': 0.0776070779145061,\n",
       "  'pmra_pmdec_corr': 0.20823906593098362,\n",
       "  'ra': 272.62839734493093,\n",
       "  'ra_dec_corr': 0.13239045715089984,\n",
       "  'ra_error': 0.03957803813769179,\n",
       "  'ra_parallax_corr': -0.17013623935097058,\n",
       "  'ra_pmdec_corr': -0.33311153079107814,\n",
       "  'ra_pmra_corr': -0.00020528877714682495,\n",
       "  'visibility_periods_used': 9},\n",
       " 0.8934585800211432)"
      ]
     },
     "execution_count": 300,
     "metadata": {},
     "output_type": "execute_result"
    }
   ],
   "source": [
    "gaia = agis.agis(r5d.copy(), times_jy, angles, x_err)\n",
    "gaia, np.sqrt(gaia['astrometric_chi2_al']/(gaia['astrometric_n_good_obs_al']-5))"
   ]
  },
  {
   "cell_type": "markdown",
   "metadata": {},
   "source": [
    "# Add some extra noise"
   ]
  },
  {
   "cell_type": "code",
   "execution_count": 302,
   "metadata": {},
   "outputs": [],
   "source": [
    "# Add 5mas excess noise\n",
    "def excess(t, e=5):\n",
    "    noise = np.random.normal(0,e,size=(2,len(t)))\n",
    "    return noise"
   ]
  },
  {
   "cell_type": "code",
   "execution_count": 303,
   "metadata": {},
   "outputs": [
    {
     "data": {
      "text/plain": [
       "({'astrometric_chi2_al': 41560.056804456006,\n",
       "  'astrometric_excess_noise': 4.798447986113742,\n",
       "  'astrometric_matched_transits': 16,\n",
       "  'astrometric_n_good_obs_al': 144,\n",
       "  'astrometric_n_obs_al': 144,\n",
       "  'astrometric_params_solved': 31,\n",
       "  'dec': 1.9684956873237487,\n",
       "  'dec_error': 0.2832314018789114,\n",
       "  'dec_parallax_corr': -0.21859270712649148,\n",
       "  'dec_pmdec_corr': -0.27199708721519467,\n",
       "  'dec_pmra_corr': -0.32121335446272464,\n",
       "  'parallax': 12.446722783148289,\n",
       "  'parallax_error': 0.32596450170247143,\n",
       "  'parallax_pmdec_corr': 0.16501273906148026,\n",
       "  'parallax_pmra_corr': -0.1680351923835675,\n",
       "  'pmdec': 21.482457160949707,\n",
       "  'pmdec_error': 0.49078747059572214,\n",
       "  'pmra': 19.991472482681274,\n",
       "  'pmra_error': 0.5793616085370511,\n",
       "  'pmra_pmdec_corr': 0.2243016345708272,\n",
       "  'ra': 272.62839734493093,\n",
       "  'ra_dec_corr': 0.1424383492876802,\n",
       "  'ra_error': 0.29434432907654967,\n",
       "  'ra_parallax_corr': -0.15473116778213028,\n",
       "  'ra_pmdec_corr': -0.3330411968464049,\n",
       "  'ra_pmra_corr': -0.008227176880270604,\n",
       "  'visibility_periods_used': 9},\n",
       " 17.291420254581368)"
      ]
     },
     "execution_count": 303,
     "metadata": {},
     "output_type": "execute_result"
    }
   ],
   "source": [
    "gaia = agis.agis(r5d, times_jy, angles, x_err, extra=excess)\n",
    "gaia, np.sqrt(gaia['astrometric_chi2_al']/(gaia['astrometric_n_good_obs_al']-5))"
   ]
  },
  {
   "cell_type": "markdown",
   "metadata": {},
   "source": [
    "### astrometric_excess_noise is of order the extra noise we've added!"
   ]
  },
  {
   "cell_type": "markdown",
   "metadata": {},
   "source": [
    "# Reproduce plot from ASF paper"
   ]
  },
  {
   "cell_type": "code",
   "execution_count": 232,
   "metadata": {},
   "outputs": [],
   "source": [
    "# Plotting modules\n",
    "import matplotlib\n",
    "from pylab import cm\n",
    "import matplotlib.pyplot as plt\n",
    "from matplotlib.colors import LogNorm\n",
    "plt.rc('text', usetex=True)\n",
    "plt.rc('font', family='serif')\n",
    "plt.rc('axes', labelsize=16)\n",
    "plt.rc('xtick',labelsize=16)\n",
    "plt.rc('ytick',labelsize=16)\n",
    "plt.rc('legend',fontsize=16)\n",
    "plt.rc('font',size=16)"
   ]
  },
  {
   "cell_type": "code",
   "execution_count": 263,
   "metadata": {},
   "outputs": [],
   "source": [
    "scan_order = np.argsort(times_jy)\n",
    "\n",
    "coords = ['ra','dec','parallax','pmra','pmdec']\n",
    "var = np.zeros((5, len(scan_order)))\n",
    "visibility_periods = np.zeros(len(scan_order))\n",
    "for ii in range(1,len(scan_order)):\n",
    "    gaia = agis.agis(r5d, times_jy[scan_order][:ii], angles[scan_order][:ii], x_err[scan_order][:ii], G=16)\n",
    "    var[:,ii] = np.array([gaia[coords[j]+'_error']**2 for j in range(5)])\n",
    "    visibility_periods[ii]=gaia['visibility_periods_used']\n",
    "var[:,0]=1e10"
   ]
  },
  {
   "cell_type": "code",
   "execution_count": 274,
   "metadata": {},
   "outputs": [
    {
     "data": {
      "image/png": "[encoded data removed]",
      "text/plain": [
       "<Figure size 576x360 with 2 Axes>"
      ]
     },
     "metadata": {
      "needs_background": "light"
     },
     "output_type": "display_data"
    }
   ],
   "source": [
    "fig, ax = plt.subplots(1,1,figsize=(8,5))\n",
    "\n",
    "# Gaia DR2 time range\n",
    "tlimits = 2015.0 + (agis.get_gaiat(np.array([1192.13, 3750.56])) + 2455197.5 - 2457023.5 - 0.25)/365.\n",
    "\n",
    "x = np.repeat(times_jy, 2); x=np.insert(x, (0,len(x)), tlimits)\n",
    "labels=[r'$\\alpha_0^*$', r'$\\delta_0$', r'$\\varpi$', r'$\\mu_\\alpha^*$', r'$\\mu_\\delta$']\n",
    "linestyles=['-','-',':','--','--']\n",
    "colours=[cm.Greens(0.7), cm.Purples(0.8), cm.Oranges(0.8), cm.Greens(0.7), cm.Purples(0.8)]\n",
    "\n",
    "for ii in range(5):\n",
    "    if ii<2: \n",
    "        x = np.repeat(times_jy[scan_order], 2); x=np.insert(x, (0,len(x)), tlimits)\n",
    "        y = np.abs(np.repeat(var[ii], 2))#*(3600*1000)**2\n",
    "    else: \n",
    "        x = np.repeat(times_jy[scan_order][visibility_periods>5], 2); x=np.insert(x, (0,len(x)), tlimits)\n",
    "        y = np.abs(np.repeat(var[ii][visibility_periods>5], 2))\n",
    "    y = np.insert(y, (0,0), (1e10,1e10))\n",
    "    plt.plot(x, np.sqrt(y), label=labels[ii], linestyle=linestyles[ii], color=colours[ii], linewidth=2)\n",
    "    \n",
    "    \n",
    "plt.xticks([2014.5, 2015.0, 2015.5, 2016.0])\n",
    "\n",
    "plt.xlabel(r'$t_\\mathrm{Gaia}$'); plt.legend(loc='lower left', ncol=1, frameon=False)\n",
    "\n",
    "plt.ylabel(r'$\\sigma_{\\alpha,\\delta,\\varpi}\\, \\mathrm{(mas)}$')\n",
    "plt.ylim(2e-2, 1e3); plt.yscale('log')\n",
    "ax2 = ax.twinx()\n",
    "plt.ylabel(r'$\\sigma_{\\mu_\\alpha,\\mu_\\delta}\\, \\mathrm{(mas/y)}$')\n",
    "plt.ylim(2e-2, 1e3); plt.yscale('log')    "
   ]
  }
 ],
 "metadata": {
  "kernelspec": {
   "display_name": "py3",
   "language": "python",
   "name": "py3"
  },
  "language_info": {
   "codemirror_mode": {
    "name": "ipython",
    "version": 3
   },
   "file_extension": ".py",
   "mimetype": "text/x-python",
   "name": "python",
   "nbconvert_exporter": "python",
   "pygments_lexer": "ipython3",
   "version": "3.5.2"
  }
 },
 "nbformat": 4,
 "nbformat_minor": 2
}
