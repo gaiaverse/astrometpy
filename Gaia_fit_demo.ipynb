{
 "cells": [
  {
   "cell_type": "code",
   "execution_count": 29,
   "metadata": {},
   "outputs": [
    {
     "name": "stdout",
     "output_type": "stream",
     "text": [
      "The autoreload extension is already loaded. To reload it, use:\n",
      "  %reload_ext autoreload\n"
     ]
    }
   ],
   "source": [
    "# optional but useful for debugging - reimports modules after editing and saving .py files\n",
    "%load_ext autoreload\n",
    "%autoreload 2"
   ]
  },
  {
   "cell_type": "code",
   "execution_count": 30,
   "metadata": {},
   "outputs": [],
   "source": [
    "import numpy as np, pandas as pd, scipy\n",
    "import astropy\n",
    "from astropy import units as u\n",
    "import astromet\n",
    "#from astromet.track import design_matrix, design_1d\n",
    "#import dev.astromet.astromet as astromet\n",
    "import matplotlib.pyplot as plt\n",
    "import matplotlib as mpl\n",
    "import tqdm\n",
    "import scanninglaw.times\n",
    "from scanninglaw.source import Source"
   ]
  },
  {
   "cell_type": "code",
   "execution_count": 31,
   "metadata": {},
   "outputs": [],
   "source": [
    "plt.style.use('ggplot')\n",
    "%config InlineBackend.figure_format = 'retina'\n",
    "mpl.rcParams['lines.linewidth'] = 2.5\n",
    "mpl.rcParams['axes.facecolor']='white'\n",
    "mpl.rcParams['axes.edgecolor']='k'\n",
    "mpl.rcParams['axes.linewidth']=2\n",
    "mpl.rcParams['font.family'] = 'serif'\n",
    "mpl.rcParams['text.color'] = 'k'\n",
    "#mpl.rcParams['xtick.major.width'] = 2\n",
    "#mpl.rcParams['ytick.major.width'] = 2\n",
    "mpl.rcParams['xtick.color']='k'\n",
    "mpl.rcParams['ytick.color']='k'\n",
    "mpl.rcParams['axes.labelcolor']='k'\n",
    "\n",
    "mpl.rcParams['font.size']=12\n",
    "mpl.rcParams['xtick.direction']='in'\n",
    "mpl.rcParams['ytick.direction']='in'\n",
    "mpl.rcParams['xtick.major.size'] = 5.5\n",
    "mpl.rcParams['ytick.major.size'] = 5.5\n",
    "mpl.rcParams['xtick.minor.size'] = 3.5\n",
    "mpl.rcParams['ytick.minor.size'] = 3.5"
   ]
  },
  {
   "cell_type": "code",
   "execution_count": 32,
   "metadata": {},
   "outputs": [],
   "source": [
    "dr3Period=34/12 # in years\n",
    "mas=astromet.mas # conversion from degrees to milli-arcseconds"
   ]
  },
  {
   "cell_type": "markdown",
   "metadata": {},
   "source": [
    "# Load in scanning law\n",
    "- Requires scanninglaw installed\n",
    "- Takes up a bit of memory (~1Gb I think)"
   ]
  },
  {
   "cell_type": "code",
   "execution_count": null,
   "metadata": {},
   "outputs": [
    {
     "name": "stdout",
     "output_type": "stream",
     "text": [
      "Loading auxilliary data ...\n"
     ]
    }
   ],
   "source": [
    "# slooow step - see scanning_law package for details\n",
    "dr3_sl=scanninglaw.times.dr2_sl(version='dr3_nominal')"
   ]
  },
  {
   "cell_type": "markdown",
   "metadata": {},
   "source": [
    "# Single source"
   ]
  },
  {
   "cell_type": "code",
   "execution_count": 23,
   "metadata": {},
   "outputs": [],
   "source": [
    "# System astrometry parameters\n",
    "params=astromet.params()\n",
    "params.ra=360*np.random.rand()\n",
    "params.dec=np.arcsin(-1+2*np.random.rand())*180/np.pi\n",
    "params.parallax=10*np.power(np.random.rand(),-1/3) # all within 100 pc\n",
    "params.pmrac=params.parallax*(20/3)*np.random.randn()\n",
    "params.pmdec=params.parallax*(20/3)*np.random.randn()\n",
    "\n",
    "mag=np.random.rand()*6+15\n",
    "\n",
    "c=Source(params.ra,params.dec,unit='deg')\n",
    "sl=dr3_sl(c, return_times=True, return_angles=True)\n",
    "ts=2010+np.squeeze(np.hstack(sl['times']))/365.25\n",
    "sort=np.argsort(ts)\n",
    "ts=ts[sort]\n",
    "phis=np.squeeze(np.hstack(sl['angles']))[sort]"
   ]
  },
  {
   "cell_type": "code",
   "execution_count": 24,
   "metadata": {},
   "outputs": [],
   "source": [
    "drac_track, ddec_track=astromet.track(ts,params)"
   ]
  },
  {
   "cell_type": "code",
   "execution_count": 25,
   "metadata": {},
   "outputs": [
    {
     "data": {
      "text/plain": [
       "<matplotlib.collections.PathCollection at 0x7fb0741531d0>"
      ]
     },
     "execution_count": 25,
     "metadata": {},
     "output_type": "execute_result"
    },
    {
     "data": {
      "image/png": "[encoded data removed]",
      "text/plain": [
       "<Figure size 432x288 with 1 Axes>"
      ]
     },
     "metadata": {
      "image/png": {
       "height": 246,
       "width": 385
      }
     },
     "output_type": "display_data"
    }
   ],
   "source": [
    "plt.scatter(drac_track, \n",
    "            ddec_track, c=ts)"
   ]
  },
  {
   "cell_type": "code",
   "execution_count": 26,
   "metadata": {},
   "outputs": [],
   "source": [
    "x_true = drac_track * np.sin(np.deg2rad(phis)) + ddec_track * np.cos(np.deg2rad(phis))\n",
    "x_err = astromet.sigma_ast(mag)\n",
    "# gaia makes 9 measurements per transit (with random error)\n",
    "t_obs,x_obs,phi_obs,rac_obs,dec_obs=astromet.gaia_mock(ts,phis,drac_track,ddec_track,err=x_err)"
   ]
  },
  {
   "cell_type": "code",
   "execution_count": 27,
   "metadata": {},
   "outputs": [
    {
     "data": {
      "text/plain": [
       "(200.67930251682654,\n",
       " -42.31537930125445,\n",
       " 11.447566472260917,\n",
       " -30.934040257334487,\n",
       " 84.27457100806613)"
      ]
     },
     "execution_count": 27,
     "metadata": {},
     "output_type": "execute_result"
    }
   ],
   "source": [
    "params.ra, params.dec, params.parallax, params.pmrac, params.pmdec"
   ]
  },
  {
   "cell_type": "code",
   "execution_count": 28,
   "metadata": {},
   "outputs": [
    {
     "data": {
      "text/plain": [
       "{'astrometric_matched_transits': 25,\n",
       " 'visibility_periods_used': 15,\n",
       " 'astrometric_n_obs_al': 225,\n",
       " 'astrometric_params_solved': 31,\n",
       " 'ra': 200.67930251255663,\n",
       " 'ra_error': 0.026157573870206105,\n",
       " 'dec': -42.31537930840112,\n",
       " 'dec_error': 0.025025052165132212,\n",
       " 'ra_dec_corr': -0.04754194754197581,\n",
       " 'parallax': 11.48404528425646,\n",
       " 'parallax_error': 0.031984432076628495,\n",
       " 'ra_parallax_corr': 0.27005387380469514,\n",
       " 'dec_parallax_corr': 0.28270988134923475,\n",
       " 'pmra': -30.882317605833265,\n",
       " 'pmra_error': 0.030441876553968104,\n",
       " 'ra_pmra_corr': -0.27365729622581647,\n",
       " 'dec_pmra_corr': 0.17292665816743547,\n",
       " 'parallax_pmra_corr': 0.10644074046342453,\n",
       " 'pmdec': 84.30428768471934,\n",
       " 'pmdec_error': 0.030698370625521623,\n",
       " 'ra_pmdec_corr': 0.025568420931923137,\n",
       " 'dec_pmdec_corr': -0.5203155717517625,\n",
       " 'parallax_pmdec_corr': -0.34729410676485134,\n",
       " 'pmra_pmdec_corr': -0.25154565283337055,\n",
       " 'astrometric_excess_noise': 0.0,\n",
       " 'astrometric_chi2_al': 216.18242514684368,\n",
       " 'astrometric_n_good_obs_al': 225,\n",
       " 'UWE': 0.9912857242143194}"
      ]
     },
     "execution_count": 28,
     "metadata": {},
     "output_type": "execute_result"
    }
   ],
   "source": [
    "# 'pmra' in gaia data is pmra*cos(dec) \n",
    "gaia_output=astromet.gaia_fit(t_obs,x_obs,phi_obs,x_err,params.ra,params.dec)\n",
    "gaia_output"
   ]
  },
  {
   "cell_type": "markdown",
   "metadata": {},
   "source": [
    "### UWE~1 and astrometric_excess_noise is small (as expected without binary motion)"
   ]
  },
  {
   "cell_type": "markdown",
   "metadata": {},
   "source": [
    "# Binary source"
   ]
  },
  {
   "cell_type": "code",
   "execution_count": 18,
   "metadata": {},
   "outputs": [],
   "source": [
    "# System astrometry parameters\n",
    "params=astromet.params()\n",
    "params.ra=360*np.random.rand()\n",
    "params.dec=np.arcsin(-1+2*np.random.rand())*180/np.pi\n",
    "params.parallax=10*np.power(np.random.rand(),-1/3) # all within 100 pc\n",
    "params.pmrac=params.parallax*np.random.normal(scale=6.67)\n",
    "params.pmdec=params.parallax*np.random.normal(scale=6.67)\n",
    "\n",
    "params.rac = params.ra*np.cos(np.deg2rad(params.dec))\n",
    "\n",
    "params.phot_g_mean_mag=np.random.rand()*6+10\n",
    "\n",
    "c=Source(params.ra,params.dec,unit='deg')\n",
    "sl=dr3_sl(c, return_times=True, return_angles=True)\n",
    "ts=2010+np.squeeze(np.hstack(sl['times']))/365.25\n",
    "sort=np.argsort(ts)\n",
    "ts=ts[sort]\n",
    "phis=np.squeeze(np.hstack(sl['angles']))[sort]\n",
    "\n",
    "params.period=10**(-1.5+3*np.random.rand()) # periods between 0.03 and 30 years\n",
    "params.l=np.random.rand() # uniform light ratio\n",
    "params.q=4*np.random.rand()**2 # mass ratios between 0 and 4 (half less than 1)\n",
    "params.a=10*np.random.rand()**2\n",
    "params.e=np.random.rand()\n",
    "params.vtheta=np.arccos(-1+2*np.random.rand())\n",
    "params.vphi=2*np.pi*np.random.rand()\n",
    "params.vomega=2*np.pi*np.random.rand()\n",
    "orbitalPhase=np.random.rand() # fraction of an orbit completed at t=0\n",
    "params.tperi=params.period*orbitalPhase"
   ]
  },
  {
   "cell_type": "code",
   "execution_count": 13,
   "metadata": {},
   "outputs": [],
   "source": [
    "rac_track, dec_track=astromet.track(ts,params)"
   ]
  },
  {
   "cell_type": "code",
   "execution_count": 14,
   "metadata": {},
   "outputs": [
    {
     "data": {
      "text/plain": [
       "<matplotlib.collections.PathCollection at 0x7fb10bfbcf50>"
      ]
     },
     "execution_count": 14,
     "metadata": {},
     "output_type": "execute_result"
    },
    {
     "data": {
      "image/png": "[encoded data removed]",
      "text/plain": [
       "<Figure size 432x288 with 1 Axes>"
      ]
     },
     "metadata": {
      "image/png": {
       "height": 246,
       "width": 378
      }
     },
     "output_type": "display_data"
    }
   ],
   "source": [
    "plt.scatter(rac_track, dec_track, c=ts)"
   ]
  },
  {
   "cell_type": "code",
   "execution_count": 15,
   "metadata": {},
   "outputs": [],
   "source": [
    "x_true = rac_track * np.sin(np.deg2rad(phis)) + dec_track * np.cos(np.deg2rad(phis))\n",
    "x_err = astromet.sigma_ast(mag)\n",
    "t_obs,x_obs,phi_obs,rac_obs,dec_obs=astromet.gaia_mock(ts,phis,rac_track,dec_track,err=x_err)"
   ]
  },
  {
   "cell_type": "code",
   "execution_count": 16,
   "metadata": {},
   "outputs": [
    {
     "data": {
      "text/plain": [
       "(72.06203236604408,\n",
       " -27.532752293808233,\n",
       " 10.61625131810561,\n",
       " -43.51295129705578,\n",
       " -39.050959554682315)"
      ]
     },
     "execution_count": 16,
     "metadata": {},
     "output_type": "execute_result"
    }
   ],
   "source": [
    "params.ra, params.dec, params.parallax, params.pmrac, params.pmdec"
   ]
  },
  {
   "cell_type": "code",
   "execution_count": 17,
   "metadata": {},
   "outputs": [
    {
     "data": {
      "text/plain": [
       "{'astrometric_matched_transits': 53,\n",
       " 'visibility_periods_used': 27,\n",
       " 'astrometric_n_obs_al': 477,\n",
       " 'astrometric_params_solved': 31,\n",
       " 'ra': 72.06203139824426,\n",
       " 'ra_error': 0.14416725063669508,\n",
       " 'dec': -27.532751683650538,\n",
       " 'dec_error': 0.17420365142392474,\n",
       " 'ra_dec_corr': -0.12576249609310047,\n",
       " 'parallax': 10.545997386749779,\n",
       " 'parallax_error': 0.21819541544226956,\n",
       " 'ra_parallax_corr': 0.06071971030836408,\n",
       " 'dec_parallax_corr': 0.006758848846608531,\n",
       " 'pmra': -44.291156131008435,\n",
       " 'pmra_error': 0.19980386559068775,\n",
       " 'ra_pmra_corr': -0.16890537624557514,\n",
       " 'dec_pmra_corr': 0.022018102886820934,\n",
       " 'parallax_pmra_corr': -0.20298779382270551,\n",
       " 'pmdec': -39.397572410285164,\n",
       " 'pmdec_error': 0.2300773858995086,\n",
       " 'ra_pmdec_corr': 0.023156641092039566,\n",
       " 'dec_pmdec_corr': -0.14006358515766915,\n",
       " 'parallax_pmdec_corr': -0.027272649804297586,\n",
       " 'pmra_pmdec_corr': -0.14086099734930235,\n",
       " 'astrometric_excess_noise': 0.0,\n",
       " 'astrometric_chi2_al': 473.5978149731938,\n",
       " 'astrometric_n_good_obs_al': 477,\n",
       " 'UWE': 1.0016911705782345}"
      ]
     },
     "execution_count": 17,
     "metadata": {},
     "output_type": "execute_result"
    }
   ],
   "source": [
    "# 'pmra' in gaia data is pmra*cos(dec) \n",
    "gaia_output=astromet.gaia_fit(t_obs,x_obs,phi_obs,x_err,params.ra,params.dec)\n",
    "gaia_output"
   ]
  },
  {
   "cell_type": "markdown",
   "metadata": {},
   "source": [
    "### UWE is bigger and astrometric_excess_noise>0!"
   ]
  },
  {
   "cell_type": "markdown",
   "metadata": {},
   "source": [
    "# Iterate over many sources"
   ]
  },
  {
   "cell_type": "code",
   "execution_count": 49,
   "metadata": {
    "scrolled": true
   },
   "outputs": [
    {
     "name": "stderr",
     "output_type": "stream",
     "text": [
      "/Users/zephyr/opt/anaconda3/lib/python3.7/site-packages/ipykernel_launcher.py:21: TqdmDeprecationWarning: This function will be removed in tqdm==5.0.0\n",
      "Please use `tqdm.notebook.tqdm` instead of `tqdm.tqdm_notebook`\n"
     ]
    },
    {
     "data": {
      "application/vnd.jupyter.widget-view+json": {
       "model_id": "b4d1aa93e7484c06b61383206debfec9",
       "version_major": 2,
       "version_minor": 0
      },
      "text/plain": [
       "  0%|          | 0/100 [00:00<?, ?it/s]"
      ]
     },
     "metadata": {},
     "output_type": "display_data"
    },
    {
     "name": "stderr",
     "output_type": "stream",
     "text": [
      "/Users/zephyr/Google Drive/astro/pythonModules/dev/astromet/astromet/track.py:419: RuntimeWarning: invalid value encountered in sqrt\n",
      "  return np.sqrt(epsxsq+epsysq-(epsx**2)-(epsy**2))\n"
     ]
    }
   ],
   "source": [
    "nTest=100\n",
    "\n",
    "# Construct Gaia data model\n",
    "astrometry_coords = ['ra','dec','parallax','pmra','pmdec']\n",
    "astrometry_gaia = astrometry_coords + \\\n",
    "                [astrometry_coords[i]+'_error' for i in range(5)] + \\\n",
    "                [astrometry_coords[i]+'_'+astrometry_coords[j]+'_corr' for i in range(5) for j in range(i+1,5)] + \\\n",
    "                ['astrometric_excess_noise', 'astrometric_chi2_al', \n",
    "                 'astrometric_n_good_obs_al', 'astrometric_n_obs_al',\n",
    "                 'astrometric_matched_transits', 'visibility_periods_used', 'astrometric_params_solved']\n",
    "\n",
    "\n",
    "dataNames=['rac_true','dec_true','pmrac_true','pmdec_true','parallax_true','phot_g_mean_mag',\n",
    "           'M_tot','q','l','a','e','P','tPeri',\n",
    "           'vTheta','vPhi','vOmega',\n",
    "           'predict_dTheta','simple_dTheta',\n",
    "           'sigma_al','sigma_ac','UWE']+astrometry_gaia\n",
    "allData=astropy.table.Table(names=dataNames)\n",
    "\n",
    "# we'll generate nTest sets of parameters, and test each with a 0, 2 ,5 and 10 mSun BH\n",
    "for i in tqdm.notebook.tqdm(range(nTest)):\n",
    "    allData.add_row()\n",
    "    thisRow=allData[i]\n",
    "    \n",
    "    # System astrometry & photometry parameters\n",
    "    params=astromet.params()\n",
    "    params.ra=360*np.random.rand()\n",
    "    params.dec=np.arcsin(-1+2*np.random.rand())*180/np.pi\n",
    "    params.parallax=10*np.power(np.random.rand(),-1/3) # all within 100 pc\n",
    "    params.pmra=params.parallax*np.random.normal(scale=6.67)\n",
    "    params.pmdec=params.parallax*np.random.normal(scale=6.67)\n",
    "    params.phot_g_mean_mag=np.random.rand()*6+15    \n",
    "    \n",
    "    params.rac = params.ra*np.cos(np.deg2rad(params.dec))\n",
    "    params.pmra = params.pmrac/np.cos(np.deg2rad(params.dec))\n",
    "    \n",
    "    # Scanning law information\n",
    "    c=Source(params.ra,params.dec,unit='deg')\n",
    "    sl=dr3_sl(c, return_times=True, return_angles=True)\n",
    "    ts=2010+np.squeeze(np.hstack(sl['times']))/365.25\n",
    "    sort=np.argsort(ts)\n",
    "    ts=ts[sort]\n",
    "    phis=np.squeeze(np.hstack(sl['angles']))[sort]\n",
    "    \n",
    "    # Binary parameters\n",
    "    params.period=10**(-1.5+3*np.random.rand()) # periods between 0.03 and 30 years\n",
    "    params.l=np.random.rand() # uniform light ratio\n",
    "    params.q=4*np.random.rand()**2 # mass ratios between 0 and 4 (half less than 1)\n",
    "    params.a=10*np.random.rand()**2\n",
    "    params.e=np.random.rand()\n",
    "    params.vtheta=np.arccos(-1+2*np.random.rand())\n",
    "    params.vphi=2*np.pi*np.random.rand()\n",
    "    params.vomega=2*np.pi*np.random.rand()\n",
    "    orbitalPhase=np.random.rand() # fraction of an orbit completed at t=0\n",
    "    params.tperi=params.period*orbitalPhase\n",
    "    \n",
    "    # Calculate track\n",
    "    drac_track, ddec_track = astromet.track(ts,params)\n",
    "    x_true = drac_track * np.sin(np.deg2rad(phis)) + ddec_track * np.cos(np.deg2rad(phis))\n",
    "    x_err = sigma_al_interp(params.phot_g_mean_mag)\n",
    "    \n",
    "    # Fit with Gaia emulator\n",
    "    gaia_output=astromet.gaia_fit(ts,x_true,phis,x_err,params.ra,params.dec)\n",
    "    # pmra in gaia_output includes the cos(dec) (standard gaia notation)\n",
    "    \n",
    "    for key in astrometry_gaia:\n",
    "        thisRow[key] = gaia_output[key]    \n",
    "    \n",
    "    # Add to dataset\n",
    "    thisRow['rac_true']=1.*params.rac\n",
    "    thisRow['dec_true']=1.*params.dec\n",
    "    thisRow['pmrac_true']=params.pmrac\n",
    "    thisRow['pmdec_true']=params.pmdec\n",
    "    thisRow['parallax_true']=params.parallax\n",
    "    thisRow['phot_g_mean_mag']=params.phot_g_mean_mag\n",
    "    \n",
    "    thisRow['M_tot']=4*(np.pi**2)*astromet.Galt/((params.period**2)*(params.a**3))\n",
    "    thisRow['q']=params.q\n",
    "    thisRow['l']=params.l\n",
    "    thisRow['a']=params.a\n",
    "    thisRow['e']=params.e\n",
    "    thisRow['P']=params.period\n",
    "    thisRow['tPeri']=1.*params.tperi\n",
    "    thisRow['vTheta']=params.vtheta\n",
    "    thisRow['vPhi']=params.vphi\n",
    "    thisRow['vOmega']=params.vomega\n",
    "    \n",
    "    thisRow['simple_dTheta']=astromet.dtheta_simple(params)\n",
    "    #thisRow['predict_dTheta']=astromet.dtheta_full(params,np.min(ts),np.max(ts))  "
   ]
  },
  {
   "cell_type": "markdown",
   "metadata": {},
   "source": [
    "# findEtas is throwing bugs in dtheta_full..."
   ]
  }
 ],
 "metadata": {
  "kernelspec": {
   "display_name": "Python 3",
   "language": "python",
   "name": "python3"
  },
  "language_info": {
   "codemirror_mode": {
    "name": "ipython",
    "version": 3
   },
   "file_extension": ".py",
   "mimetype": "text/x-python",
   "name": "python",
   "nbconvert_exporter": "python",
   "pygments_lexer": "ipython3",
   "version": "3.7.7"
  }
 },
 "nbformat": 4,
 "nbformat_minor": 4
}
