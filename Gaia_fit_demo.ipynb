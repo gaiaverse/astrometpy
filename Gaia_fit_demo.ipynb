{
 "cells": [
  {
   "cell_type": "code",
   "execution_count": 1,
   "metadata": {},
   "outputs": [],
   "source": [
    "# optional but useful for debugging - reimports modules after editing and saving .py files\n",
    "%load_ext autoreload\n",
    "%autoreload 2"
   ]
  },
  {
   "cell_type": "code",
   "execution_count": 2,
   "metadata": {},
   "outputs": [],
   "source": [
    "import numpy as np, pandas as pd, scipy\n",
    "import astropy\n",
    "from astropy import units as u\n",
    "import astromet\n",
    "from astromet.track import design_matrix, design_1d\n",
    "#import dev.astromet.astromet as astromet\n",
    "import matplotlib.pyplot as plt\n",
    "import matplotlib as mpl\n",
    "import tqdm\n",
    "import scanninglaw.times\n",
    "from scanninglaw.source import Source"
   ]
  },
  {
   "cell_type": "code",
   "execution_count": 3,
   "metadata": {},
   "outputs": [],
   "source": [
    "plt.style.use('ggplot')\n",
    "%config InlineBackend.figure_format = 'retina'\n",
    "mpl.rcParams['lines.linewidth'] = 2.5\n",
    "mpl.rcParams['axes.facecolor']='white'\n",
    "mpl.rcParams['axes.edgecolor']='k'\n",
    "mpl.rcParams['axes.linewidth']=2\n",
    "mpl.rcParams['font.family'] = 'serif'\n",
    "mpl.rcParams['text.color'] = 'k'\n",
    "#mpl.rcParams['xtick.major.width'] = 2\n",
    "#mpl.rcParams['ytick.major.width'] = 2\n",
    "mpl.rcParams['xtick.color']='k'\n",
    "mpl.rcParams['ytick.color']='k'\n",
    "mpl.rcParams['axes.labelcolor']='k'\n",
    "\n",
    "mpl.rcParams['font.size']=12\n",
    "mpl.rcParams['xtick.direction']='in'\n",
    "mpl.rcParams['ytick.direction']='in'\n",
    "mpl.rcParams['xtick.major.size'] = 5.5\n",
    "mpl.rcParams['ytick.major.size'] = 5.5\n",
    "mpl.rcParams['xtick.minor.size'] = 3.5\n",
    "mpl.rcParams['ytick.minor.size'] = 3.5"
   ]
  },
  {
   "cell_type": "code",
   "execution_count": 4,
   "metadata": {},
   "outputs": [],
   "source": [
    "dr3Period=34/12 # in years\n",
    "mas=astromet.mas # conversion from degrees to milli-arcseconds"
   ]
  },
  {
   "cell_type": "markdown",
   "metadata": {},
   "source": [
    "# Load in scanning law\n",
    "- Requires scanninglaw installed\n",
    "- Takes up a bit of memory (~1Gb I think)"
   ]
  },
  {
   "cell_type": "code",
   "execution_count": 5,
   "metadata": {},
   "outputs": [
    {
     "name": "stdout",
     "output_type": "stream",
     "text": [
      "Loading auxilliary data ...\n",
      "t = 53.861 s\n",
      "  auxilliary:  26.301 s\n",
      "          sf:   8.881 s\n",
      "interpolator:  18.679 s\n"
     ]
    }
   ],
   "source": [
    "# slooow step - see scanning_law package for details\n",
    "dr3_sl=scanninglaw.times.dr2_sl(version='dr3_nominal')"
   ]
  },
  {
   "cell_type": "markdown",
   "metadata": {},
   "source": [
    "## Along scan error"
   ]
  },
  {
   "cell_type": "code",
   "execution_count": 6,
   "metadata": {},
   "outputs": [],
   "source": [
    "# Individual measurement error\n",
    "sigma_al = np.array(pd.read_csv('astromet/data/scatteral_edr3.csv', usecols=['magbin','var_al_50']))\n",
    "sigma_al_interp = scipy.interpolate.interp1d(sigma_al[:,0], sigma_al[:,1], bounds_error=False)"
   ]
  },
  {
   "cell_type": "markdown",
   "metadata": {},
   "source": [
    "# Single source"
   ]
  },
  {
   "cell_type": "code",
   "execution_count": 11,
   "metadata": {},
   "outputs": [],
   "source": [
    "# System astrometry parameters\n",
    "params=astromet.params()\n",
    "params.ra=360*np.random.rand()\n",
    "params.dec=np.arcsin(-1+2*np.random.rand())*180/np.pi\n",
    "params.parallax=10*np.power(np.random.rand(),-1/3) # all within 100 pc\n",
    "params.pmrac=params.parallax*np.random.normal(scale=6.67)\n",
    "params.pmdec=params.parallax*np.random.normal(scale=6.67)\n",
    "\n",
    "params.rac = params.ra*np.cos(np.deg2rad(params.dec))\n",
    "params.pmra = params.pmrac/np.cos(np.deg2rad(params.dec))\n",
    "\n",
    "params.phot_g_mean_mag=np.random.rand()*6+15\n",
    "\n",
    "c=Source(params.ra,params.dec,unit='deg')\n",
    "sl=dr3_sl(c, return_times=True, return_angles=True)\n",
    "ts=2010+np.squeeze(np.hstack(sl['times']))/365.25\n",
    "sort=np.argsort(ts)\n",
    "ts=ts[sort]\n",
    "phis=np.squeeze(np.hstack(sl['angles']))[sort]\n",
    "\n",
    "# Get rid of binary signal for the moment\n",
    "params.a = 0."
   ]
  },
  {
   "cell_type": "code",
   "execution_count": 12,
   "metadata": {},
   "outputs": [],
   "source": [
    "rac_track, dec_track=astromet.track(ts,params)"
   ]
  },
  {
   "cell_type": "code",
   "execution_count": 13,
   "metadata": {},
   "outputs": [
    {
     "data": {
      "text/plain": [
       "<matplotlib.collections.PathCollection at 0x7f4f99a65860>"
      ]
     },
     "execution_count": 13,
     "metadata": {},
     "output_type": "execute_result"
    },
    {
     "data": {
      "image/png": "[encoded data removed]",
      "text/plain": [
       "<Figure size 432x288 with 1 Axes>"
      ]
     },
     "metadata": {
      "image/png": {
       "height": 247,
       "width": 383
      }
     },
     "output_type": "display_data"
    }
   ],
   "source": [
    "plt.scatter(rac_track-params.rac/astromet.mas, \n",
    "            dec_track-params.dec/astromet.mas, c=ts)"
   ]
  },
  {
   "cell_type": "code",
   "execution_count": 18,
   "metadata": {},
   "outputs": [],
   "source": [
    "x_true = rac_track * np.sin(np.deg2rad(phis)) + dec_track * np.cos(np.deg2rad(phis))\n",
    "x_err = sigma_al_interp(params.phot_g_mean_mag)"
   ]
  },
  {
   "cell_type": "code",
   "execution_count": 19,
   "metadata": {},
   "outputs": [
    {
     "data": {
      "text/plain": [
       "(192.0437090529884,\n",
       " -34.85327606871708,\n",
       " 10.168770689686639,\n",
       " 96.38426115241136,\n",
       " 26.691367650411447)"
      ]
     },
     "execution_count": 19,
     "metadata": {},
     "output_type": "execute_result"
    }
   ],
   "source": [
    "params.ra, params.dec, params.parallax, params.pmrac, params.pmdec"
   ]
  },
  {
   "cell_type": "code",
   "execution_count": 20,
   "metadata": {},
   "outputs": [
    {
     "data": {
      "text/plain": [
       "{'astrometric_matched_transits': 45,\n",
       " 'visibility_periods_used': 18,\n",
       " 'astrometric_n_obs_al': 405,\n",
       " 'astrometric_params_solved': 31,\n",
       " 'ra': 192.04370904313998,\n",
       " 'ra_error': 0.010655498420246644,\n",
       " 'dec': -34.85327606473862,\n",
       " 'dec_error': 0.007811872375250843,\n",
       " 'ra_dec_corr': -0.1273732895054941,\n",
       " 'parallax': 10.171344869100137,\n",
       " 'parallax_error': 0.013648063545411704,\n",
       " 'ra_parallax_corr': 0.23243236685778382,\n",
       " 'dec_parallax_corr': 0.11769356449101757,\n",
       " 'pmra': 96.37822068223728,\n",
       " 'pmra_error': 0.012363034418570704,\n",
       " 'ra_pmra_corr': -0.4799943200278558,\n",
       " 'dec_pmra_corr': 0.03605338131659608,\n",
       " 'parallax_pmra_corr': -0.19531238646182347,\n",
       " 'pmdec': 26.685263732287073,\n",
       " 'pmdec_error': 0.008935082537711808,\n",
       " 'ra_pmdec_corr': 0.03662277862551444,\n",
       " 'dec_pmdec_corr': -0.39562476102988103,\n",
       " 'parallax_pmdec_corr': -0.13860745607511804,\n",
       " 'pmra_pmdec_corr': -0.21491119594208694,\n",
       " 'astrometric_excess_noise': 0.0,\n",
       " 'astrometric_chi2_al': 411.0823861241366,\n",
       " 'astrometric_n_good_obs_al': 405,\n",
       " 'UWE': 1.0137583367402418}"
      ]
     },
     "execution_count": 20,
     "metadata": {},
     "output_type": "execute_result"
    }
   ],
   "source": [
    "# 'pmra' in gaia data is pmra*cos(dec) \n",
    "results=astromet.gaia_fit(ts,x_true,phis,x_err,params.ra,params.dec)\n",
    "results"
   ]
  },
  {
   "cell_type": "markdown",
   "metadata": {},
   "source": [
    "### UWE and astrometric_excess_noise are small!"
   ]
  },
  {
   "cell_type": "markdown",
   "metadata": {},
   "source": [
    "# Binary source"
   ]
  },
  {
   "cell_type": "code",
   "execution_count": 52,
   "metadata": {},
   "outputs": [],
   "source": [
    "# System astrometry parameters\n",
    "params=astromet.params()\n",
    "params.ra=360*np.random.rand()\n",
    "params.dec=np.arcsin(-1+2*np.random.rand())*180/np.pi\n",
    "params.parallax=10*np.power(np.random.rand(),-1/3) # all within 100 pc\n",
    "params.pmrac=params.parallax*np.random.normal(scale=6.67)\n",
    "params.pmdec=params.parallax*np.random.normal(scale=6.67)\n",
    "\n",
    "params.rac = params.ra*np.cos(np.deg2rad(params.dec))\n",
    "params.pmra = params.pmrac/np.cos(np.deg2rad(params.dec))\n",
    "\n",
    "params.phot_g_mean_mag=np.random.rand()*6+10\n",
    "\n",
    "c=Source(params.ra,params.dec,unit='deg')\n",
    "sl=dr3_sl(c, return_times=True, return_angles=True)\n",
    "ts=2010+np.squeeze(np.hstack(sl['times']))/365.25\n",
    "sort=np.argsort(ts)\n",
    "ts=ts[sort]\n",
    "phis=np.squeeze(np.hstack(sl['angles']))[sort]\n",
    "\n",
    "params.period=10**(-1.5+3*np.random.rand()) # periods between 0.03 and 30 years\n",
    "params.l=np.random.rand() # uniform light ratio\n",
    "params.q=4*np.random.rand()**2 # mass ratios between 0 and 4 (half less than 1)\n",
    "params.a=10*np.random.rand()**2\n",
    "params.e=np.random.rand()\n",
    "params.vtheta=np.arccos(-1+2*np.random.rand())\n",
    "params.vphi=2*np.pi*np.random.rand()\n",
    "params.vomega=2*np.pi*np.random.rand()\n",
    "orbitalPhase=np.random.rand() # fraction of an orbit completed at t=0\n",
    "params.tperi=params.period*orbitalPhase"
   ]
  },
  {
   "cell_type": "code",
   "execution_count": 53,
   "metadata": {},
   "outputs": [],
   "source": [
    "rac_track, dec_track=astromet.track(ts,params)"
   ]
  },
  {
   "cell_type": "code",
   "execution_count": 54,
   "metadata": {},
   "outputs": [
    {
     "data": {
      "text/plain": [
       "<matplotlib.collections.PathCollection at 0x7f4fd00db9e8>"
      ]
     },
     "execution_count": 54,
     "metadata": {},
     "output_type": "execute_result"
    },
    {
     "data": {
      "image/png": "[encoded data removed]",
      "text/plain": [
       "<Figure size 432x288 with 1 Axes>"
      ]
     },
     "metadata": {
      "image/png": {
       "height": 246,
       "width": 378
      }
     },
     "output_type": "display_data"
    }
   ],
   "source": [
    "plt.scatter(rac_track-params.rac/astromet.mas, \n",
    "            dec_track-params.dec/astromet.mas, c=ts)"
   ]
  },
  {
   "cell_type": "code",
   "execution_count": 55,
   "metadata": {},
   "outputs": [],
   "source": [
    "x_true = rac_track * np.sin(np.deg2rad(phis)) + dec_track * np.cos(np.deg2rad(phis))\n",
    "x_err = sigma_al_interp(params.phot_g_mean_mag)"
   ]
  },
  {
   "cell_type": "code",
   "execution_count": 56,
   "metadata": {},
   "outputs": [
    {
     "data": {
      "text/plain": [
       "(14.877963661994183,\n",
       " -31.906567810472232,\n",
       " 12.212027818487282,\n",
       " -50.42090237743703,\n",
       " -55.209510393496636)"
      ]
     },
     "execution_count": 56,
     "metadata": {},
     "output_type": "execute_result"
    }
   ],
   "source": [
    "params.ra, params.dec, params.parallax, params.pmrac, params.pmdec"
   ]
  },
  {
   "cell_type": "code",
   "execution_count": 57,
   "metadata": {},
   "outputs": [
    {
     "data": {
      "text/plain": [
       "{'astrometric_matched_transits': 57,\n",
       " 'visibility_periods_used': 17,\n",
       " 'astrometric_n_obs_al': 513,\n",
       " 'astrometric_params_solved': 31,\n",
       " 'ra': 14.877965322803394,\n",
       " 'ra_error': 0.0250473148424078,\n",
       " 'dec': -31.90656596031325,\n",
       " 'dec_error': 0.01917028297421768,\n",
       " 'ra_dec_corr': 0.023777118500000437,\n",
       " 'parallax': 12.221801729250572,\n",
       " 'parallax_error': 0.031244701636926855,\n",
       " 'ra_parallax_corr': -0.09373147439243108,\n",
       " 'dec_parallax_corr': 0.06420550705213769,\n",
       " 'pmra': -50.64149560352588,\n",
       " 'pmra_error': 0.034203831749165005,\n",
       " 'ra_pmra_corr': 0.49288068623485476,\n",
       " 'dec_pmra_corr': 0.177230733313465,\n",
       " 'parallax_pmra_corr': 0.11325504927394088,\n",
       " 'pmdec': -53.214185202230546,\n",
       " 'pmdec_error': 0.03987445891747596,\n",
       " 'ra_pmdec_corr': 0.006344386858027302,\n",
       " 'dec_pmdec_corr': 0.666652385620282,\n",
       " 'parallax_pmdec_corr': 0.26385712613265233,\n",
       " 'pmra_pmdec_corr': 0.37463417456118586,\n",
       " 'astrometric_excess_noise': 0.06649374472032543,\n",
       " 'astrometric_chi2_al': 14579.088773840354,\n",
       " 'astrometric_n_good_obs_al': 513,\n",
       " 'UWE': 5.357144169171858}"
      ]
     },
     "execution_count": 57,
     "metadata": {},
     "output_type": "execute_result"
    }
   ],
   "source": [
    "# 'pmra' in gaia data is pmra*cos(dec) \n",
    "results=astromet.gaia_fit(ts,x_true,phis,x_err,params.ra,params.dec)\n",
    "results"
   ]
  },
  {
   "cell_type": "markdown",
   "metadata": {},
   "source": [
    "### UWE is bigger!"
   ]
  },
  {
   "cell_type": "markdown",
   "metadata": {},
   "source": [
    "# Iterate over many sources"
   ]
  },
  {
   "cell_type": "code",
   "execution_count": 61,
   "metadata": {
    "scrolled": true
   },
   "outputs": [
    {
     "name": "stderr",
     "output_type": "stream",
     "text": [
      "/home/andy/py36/lib/python3.6/site-packages/ipykernel_launcher.py:14: TqdmDeprecationWarning: This function will be removed in tqdm==5.0.0\n",
      "Please use `tqdm.notebook.tqdm` instead of `tqdm.tqdm_notebook`\n",
      "  \n"
     ]
    },
    {
     "data": {
      "application/vnd.jupyter.widget-view+json": {
       "model_id": "d3c74d537e604c418211bd55e24ada09",
       "version_major": 2,
       "version_minor": 0
      },
      "text/plain": [
       "  0%|          | 0/100 [00:00<?, ?it/s]"
      ]
     },
     "metadata": {},
     "output_type": "display_data"
    },
    {
     "ename": "TypingError",
     "evalue": "Failed in nopython mode pipeline (step: nopython frontend)\n\u001b[1m\u001b[1m\u001b[1mNo implementation of function Function(<function amax at 0x7f50087496a8>) found for signature:\n \n >>> amax(float64)\n \nThere are 2 candidate implementations:\n\u001b[1m  - Of which 2 did not match due to:\n  Overload of function 'amax': File: numba/core/typing/npydecl.py: Line 348.\n    With argument(s): '(float64)':\u001b[0m\n\u001b[1m   No match.\u001b[0m\n\u001b[0m\n\u001b[0m\u001b[1mDuring: resolving callee type: Function(<function amax at 0x7f50087496a8>)\u001b[0m\n\u001b[0m\u001b[1mDuring: typing of call at /home/andy/Documents/Research/Projects/GitRepos/astrometpy/astromet/track.py (266)\n\u001b[0m\n\u001b[1m\nFile \"astromet/track.py\", line 266:\u001b[0m\n\u001b[1mdef findEtas(ts, period, eccentricity, tPeri=0, N_it = 10):\n    <source elided>\n        raise Exception(\"Eccentricity must be less than unity!\")\n\u001b[1m    if np.max(ell_array)>2.*np.pi:\n\u001b[0m    \u001b[1m^\u001b[0m\u001b[0m\n",
     "output_type": "error",
     "traceback": [
      "\u001b[0;31m---------------------------------------------------------------------------\u001b[0m",
      "\u001b[0;31mTypingError\u001b[0m                               Traceback (most recent call last)",
      "\u001b[0;32m<ipython-input-61-52336aeb268c>\u001b[0m in \u001b[0;36m<module>\u001b[0;34m\u001b[0m\n\u001b[1;32m     77\u001b[0m \u001b[0;34m\u001b[0m\u001b[0m\n\u001b[1;32m     78\u001b[0m     \u001b[0mthisRow\u001b[0m\u001b[0;34m[\u001b[0m\u001b[0;34m'simple_dTheta'\u001b[0m\u001b[0;34m]\u001b[0m\u001b[0;34m=\u001b[0m\u001b[0mastromet\u001b[0m\u001b[0;34m.\u001b[0m\u001b[0mdtheta_simple\u001b[0m\u001b[0;34m(\u001b[0m\u001b[0mparams\u001b[0m\u001b[0;34m)\u001b[0m\u001b[0;34m\u001b[0m\u001b[0;34m\u001b[0m\u001b[0m\n\u001b[0;32m---> 79\u001b[0;31m     \u001b[0mthisRow\u001b[0m\u001b[0;34m[\u001b[0m\u001b[0;34m'predict_dTheta'\u001b[0m\u001b[0;34m]\u001b[0m\u001b[0;34m=\u001b[0m\u001b[0mastromet\u001b[0m\u001b[0;34m.\u001b[0m\u001b[0mdtheta_full\u001b[0m\u001b[0;34m(\u001b[0m\u001b[0mparams\u001b[0m\u001b[0;34m,\u001b[0m\u001b[0mnp\u001b[0m\u001b[0;34m.\u001b[0m\u001b[0mmin\u001b[0m\u001b[0;34m(\u001b[0m\u001b[0mts\u001b[0m\u001b[0;34m)\u001b[0m\u001b[0;34m,\u001b[0m\u001b[0mnp\u001b[0m\u001b[0;34m.\u001b[0m\u001b[0mmax\u001b[0m\u001b[0;34m(\u001b[0m\u001b[0mts\u001b[0m\u001b[0;34m)\u001b[0m\u001b[0;34m)\u001b[0m\u001b[0;34m\u001b[0m\u001b[0;34m\u001b[0m\u001b[0m\n\u001b[0m\u001b[1;32m     80\u001b[0m \u001b[0;34m\u001b[0m\u001b[0m\n\u001b[1;32m     81\u001b[0m     \u001b[0mthisRow\u001b[0m\u001b[0;34m[\u001b[0m\u001b[0;34m'fit_rac'\u001b[0m\u001b[0;34m]\u001b[0m\u001b[0;34m=\u001b[0m\u001b[0mresults\u001b[0m\u001b[0;34m[\u001b[0m\u001b[0;34m'ra'\u001b[0m\u001b[0;34m]\u001b[0m\u001b[0;34m*\u001b[0m\u001b[0mnp\u001b[0m\u001b[0;34m.\u001b[0m\u001b[0mcos\u001b[0m\u001b[0;34m(\u001b[0m\u001b[0mnp\u001b[0m\u001b[0;34m.\u001b[0m\u001b[0mdeg2rad\u001b[0m\u001b[0;34m(\u001b[0m\u001b[0mresults\u001b[0m\u001b[0;34m[\u001b[0m\u001b[0;34m'dec'\u001b[0m\u001b[0;34m]\u001b[0m\u001b[0;34m)\u001b[0m\u001b[0;34m)\u001b[0m\u001b[0;34m\u001b[0m\u001b[0;34m\u001b[0m\u001b[0m\n",
      "\u001b[0;32m~/Documents/Research/Projects/GitRepos/astrometpy/astromet/track.py\u001b[0m in \u001b[0;36mdtheta_full\u001b[0;34m(ps, t1, t2)\u001b[0m\n\u001b[1;32m    422\u001b[0m     \u001b[0;32mif\u001b[0m \u001b[0mps\u001b[0m\u001b[0;34m.\u001b[0m\u001b[0mDelta\u001b[0m \u001b[0;34m==\u001b[0m \u001b[0;34m-\u001b[0m\u001b[0;36m1\u001b[0m\u001b[0;34m:\u001b[0m\u001b[0;34m\u001b[0m\u001b[0;34m\u001b[0m\u001b[0m\n\u001b[1;32m    423\u001b[0m         \u001b[0m_\u001b[0m \u001b[0;34m=\u001b[0m \u001b[0mDelta\u001b[0m\u001b[0;34m(\u001b[0m\u001b[0mps\u001b[0m\u001b[0;34m)\u001b[0m\u001b[0;34m\u001b[0m\u001b[0;34m\u001b[0m\u001b[0m\n\u001b[0;32m--> 424\u001b[0;31m     \u001b[0meta1\u001b[0m \u001b[0;34m=\u001b[0m \u001b[0mfindEtas\u001b[0m\u001b[0;34m(\u001b[0m\u001b[0mt1\u001b[0m\u001b[0;34m,\u001b[0m \u001b[0mps\u001b[0m\u001b[0;34m.\u001b[0m\u001b[0mperiod\u001b[0m\u001b[0;34m,\u001b[0m \u001b[0mps\u001b[0m\u001b[0;34m.\u001b[0m\u001b[0me\u001b[0m\u001b[0;34m,\u001b[0m \u001b[0mtPeri\u001b[0m\u001b[0;34m=\u001b[0m\u001b[0mps\u001b[0m\u001b[0;34m.\u001b[0m\u001b[0mtperi\u001b[0m\u001b[0;34m)\u001b[0m\u001b[0;34m\u001b[0m\u001b[0;34m\u001b[0m\u001b[0m\n\u001b[0m\u001b[1;32m    425\u001b[0m     \u001b[0meta2\u001b[0m \u001b[0;34m=\u001b[0m \u001b[0mfindEtas\u001b[0m\u001b[0;34m(\u001b[0m\u001b[0mt2\u001b[0m\u001b[0;34m,\u001b[0m \u001b[0mps\u001b[0m\u001b[0;34m.\u001b[0m\u001b[0mperiod\u001b[0m\u001b[0;34m,\u001b[0m \u001b[0mps\u001b[0m\u001b[0;34m.\u001b[0m\u001b[0me\u001b[0m\u001b[0;34m,\u001b[0m \u001b[0mtPeri\u001b[0m\u001b[0;34m=\u001b[0m\u001b[0mps\u001b[0m\u001b[0;34m.\u001b[0m\u001b[0mtperi\u001b[0m\u001b[0;34m)\u001b[0m\u001b[0;34m\u001b[0m\u001b[0;34m\u001b[0m\u001b[0m\n\u001b[1;32m    426\u001b[0m     \u001b[0msigma1\u001b[0m\u001b[0;34m,\u001b[0m \u001b[0msigma2\u001b[0m\u001b[0;34m,\u001b[0m \u001b[0msigma3\u001b[0m\u001b[0;34m,\u001b[0m \u001b[0mgamma1\u001b[0m\u001b[0;34m,\u001b[0m \u001b[0mgamma2\u001b[0m\u001b[0;34m,\u001b[0m \u001b[0mgamma3\u001b[0m \u001b[0;34m=\u001b[0m \u001b[0msigmagamma\u001b[0m\u001b[0;34m(\u001b[0m\u001b[0meta1\u001b[0m\u001b[0;34m,\u001b[0m \u001b[0meta2\u001b[0m\u001b[0;34m)\u001b[0m\u001b[0;34m\u001b[0m\u001b[0;34m\u001b[0m\u001b[0m\n",
      "\u001b[0;32m~/py36/lib/python3.6/site-packages/numba/core/dispatcher.py\u001b[0m in \u001b[0;36m_compile_for_args\u001b[0;34m(self, *args, **kws)\u001b[0m\n\u001b[1;32m    412\u001b[0m                 \u001b[0me\u001b[0m\u001b[0;34m.\u001b[0m\u001b[0mpatch_message\u001b[0m\u001b[0;34m(\u001b[0m\u001b[0mmsg\u001b[0m\u001b[0;34m)\u001b[0m\u001b[0;34m\u001b[0m\u001b[0;34m\u001b[0m\u001b[0m\n\u001b[1;32m    413\u001b[0m \u001b[0;34m\u001b[0m\u001b[0m\n\u001b[0;32m--> 414\u001b[0;31m             \u001b[0merror_rewrite\u001b[0m\u001b[0;34m(\u001b[0m\u001b[0me\u001b[0m\u001b[0;34m,\u001b[0m \u001b[0;34m'typing'\u001b[0m\u001b[0;34m)\u001b[0m\u001b[0;34m\u001b[0m\u001b[0;34m\u001b[0m\u001b[0m\n\u001b[0m\u001b[1;32m    415\u001b[0m         \u001b[0;32mexcept\u001b[0m \u001b[0merrors\u001b[0m\u001b[0;34m.\u001b[0m\u001b[0mUnsupportedError\u001b[0m \u001b[0;32mas\u001b[0m \u001b[0me\u001b[0m\u001b[0;34m:\u001b[0m\u001b[0;34m\u001b[0m\u001b[0;34m\u001b[0m\u001b[0m\n\u001b[1;32m    416\u001b[0m             \u001b[0;31m# Something unsupported is present in the user code, add help info\u001b[0m\u001b[0;34m\u001b[0m\u001b[0;34m\u001b[0m\u001b[0;34m\u001b[0m\u001b[0m\n",
      "\u001b[0;32m~/py36/lib/python3.6/site-packages/numba/core/dispatcher.py\u001b[0m in \u001b[0;36merror_rewrite\u001b[0;34m(e, issue_type)\u001b[0m\n\u001b[1;32m    355\u001b[0m                 \u001b[0;32mraise\u001b[0m \u001b[0me\u001b[0m\u001b[0;34m\u001b[0m\u001b[0;34m\u001b[0m\u001b[0m\n\u001b[1;32m    356\u001b[0m             \u001b[0;32melse\u001b[0m\u001b[0;34m:\u001b[0m\u001b[0;34m\u001b[0m\u001b[0;34m\u001b[0m\u001b[0m\n\u001b[0;32m--> 357\u001b[0;31m                 \u001b[0;32mraise\u001b[0m \u001b[0me\u001b[0m\u001b[0;34m.\u001b[0m\u001b[0mwith_traceback\u001b[0m\u001b[0;34m(\u001b[0m\u001b[0;32mNone\u001b[0m\u001b[0;34m)\u001b[0m\u001b[0;34m\u001b[0m\u001b[0;34m\u001b[0m\u001b[0m\n\u001b[0m\u001b[1;32m    358\u001b[0m \u001b[0;34m\u001b[0m\u001b[0m\n\u001b[1;32m    359\u001b[0m         \u001b[0margtypes\u001b[0m \u001b[0;34m=\u001b[0m \u001b[0;34m[\u001b[0m\u001b[0;34m]\u001b[0m\u001b[0;34m\u001b[0m\u001b[0;34m\u001b[0m\u001b[0m\n",
      "\u001b[0;31mTypingError\u001b[0m: Failed in nopython mode pipeline (step: nopython frontend)\n\u001b[1m\u001b[1m\u001b[1mNo implementation of function Function(<function amax at 0x7f50087496a8>) found for signature:\n \n >>> amax(float64)\n \nThere are 2 candidate implementations:\n\u001b[1m  - Of which 2 did not match due to:\n  Overload of function 'amax': File: numba/core/typing/npydecl.py: Line 348.\n    With argument(s): '(float64)':\u001b[0m\n\u001b[1m   No match.\u001b[0m\n\u001b[0m\n\u001b[0m\u001b[1mDuring: resolving callee type: Function(<function amax at 0x7f50087496a8>)\u001b[0m\n\u001b[0m\u001b[1mDuring: typing of call at /home/andy/Documents/Research/Projects/GitRepos/astrometpy/astromet/track.py (266)\n\u001b[0m\n\u001b[1m\nFile \"astromet/track.py\", line 266:\u001b[0m\n\u001b[1mdef findEtas(ts, period, eccentricity, tPeri=0, N_it = 10):\n    <source elided>\n        raise Exception(\"Eccentricity must be less than unity!\")\n\u001b[1m    if np.max(ell_array)>2.*np.pi:\n\u001b[0m    \u001b[1m^\u001b[0m\u001b[0m\n"
     ]
    }
   ],
   "source": [
    "nTest=100\n",
    "dataNames=('rac','dec','pmrac','pmdec','parallax','phot_g_mean_mag',\n",
    "           'M_tot','q','l','a','e','P','tPeri',\n",
    "           'vTheta','vPhi','vOmega',\n",
    "           'predict_dTheta','simple_dTheta',\n",
    "           'N_obs','sigma_al','sigma_ac',\n",
    "           'fit_rac','fit_dec','fit_pmrac','fit_pmdec','fit_parallax',\n",
    "           'rac_error','dec_error','pmrac_error','pmdec_error','parallax_error',\n",
    "           'N_vis','frac_good','AEN','UWE'\n",
    "          )\n",
    "allData=astropy.table.Table(names=dataNames)\n",
    "\n",
    "# we'll generate nTest sets of parameters, and test each with a 0, 2 ,5 and 10 mSun BH\n",
    "for i in tqdm.tqdm_notebook(range(nTest)):\n",
    "    allData.add_row()\n",
    "    thisRow=allData[i]\n",
    "    \n",
    "    # System astrometry & photometry parameters\n",
    "    params=astromet.params()\n",
    "    params.ra=360*np.random.rand()\n",
    "    params.dec=np.arcsin(-1+2*np.random.rand())*180/np.pi\n",
    "    params.parallax=10*np.power(np.random.rand(),-1/3) # all within 100 pc\n",
    "    params.pmra=params.parallax*np.random.normal(scale=6.67)\n",
    "    params.pmdec=params.parallax*np.random.normal(scale=6.67)\n",
    "    params.phot_g_mean_mag=np.random.rand()*6+15    \n",
    "    \n",
    "    params.rac = params.ra*np.cos(np.deg2rad(params.dec))\n",
    "    params.pmra = params.pmrac/np.cos(np.deg2rad(params.dec))\n",
    "    \n",
    "    # Scanning law information\n",
    "    c=Source(params.ra,params.dec,unit='deg')\n",
    "    sl=dr3_sl(c, return_times=True, return_angles=True)\n",
    "    ts=2010+np.squeeze(np.hstack(sl['times']))/365.25\n",
    "    sort=np.argsort(ts)\n",
    "    ts=ts[sort]\n",
    "    phis=np.squeeze(np.hstack(sl['angles']))[sort]\n",
    "    \n",
    "    # Binary parameters\n",
    "    params.period=10**(-1.5+3*np.random.rand()) # periods between 0.03 and 30 years\n",
    "    params.l=np.random.rand() # uniform light ratio\n",
    "    params.q=4*np.random.rand()**2 # mass ratios between 0 and 4 (half less than 1)\n",
    "    params.a=10*np.random.rand()**2\n",
    "    params.e=np.random.rand()\n",
    "    params.vtheta=np.arccos(-1+2*np.random.rand())\n",
    "    params.vphi=2*np.pi*np.random.rand()\n",
    "    params.vomega=2*np.pi*np.random.rand()\n",
    "    orbitalPhase=np.random.rand() # fraction of an orbit completed at t=0\n",
    "    params.tperi=params.period*orbitalPhase\n",
    "    \n",
    "    # Calculate track\n",
    "    rac_track, dec_track = astromet.track(ts,params)\n",
    "    x_true = rac_track * np.sin(np.deg2rad(phis)) + dec_track * np.cos(np.deg2rad(phis))\n",
    "    x_err = sigma_al_interp(params.phot_g_mean_mag)\n",
    "    \n",
    "    # Fit with Gaia emulator\n",
    "    results=astromet.gaia_fit(ts,x_true,phis,x_err,params.ra,params.dec)\n",
    "    # pmra in results includes the cos(dec) (standard gaia notation)\n",
    "    \n",
    "    # Add to dataset\n",
    "    thisRow['rac']=1.*params.rac\n",
    "    thisRow['dec']=1.*params.dec\n",
    "    thisRow['pmrac']=params.pmrac\n",
    "    thisRow['pmdec']=params.pmdec\n",
    "    thisRow['parallax']=params.parallax\n",
    "    thisRow['phot_g_mean_mag']=params.phot_g_mean_mag\n",
    "    \n",
    "    thisRow['M_tot']=4*(np.pi**2)*astromet.Galt/((params.period**2)*(params.a**3))\n",
    "    thisRow['q']=params.q\n",
    "    thisRow['l']=params.l\n",
    "    thisRow['a']=params.a\n",
    "    thisRow['e']=params.e\n",
    "    thisRow['P']=params.period\n",
    "    thisRow['tPeri']=1.*params.tperi\n",
    "    thisRow['vTheta']=params.vtheta\n",
    "    thisRow['vPhi']=params.vphi\n",
    "    thisRow['vOmega']=params.vomega\n",
    "    \n",
    "    thisRow['simple_dTheta']=astromet.dtheta_simple(params)\n",
    "    thisRow['predict_dTheta']=astromet.dtheta_full(params,np.min(ts),np.max(ts))  \n",
    "    \n",
    "    thisRow['fit_rac']=results['ra']*np.cos(np.deg2rad(results['dec']))\n",
    "    thisRow['fit_dec']=results['dec']\n",
    "    thisRow['fit_pmrac']=results['pmra']\n",
    "    thisRow['fit_pmdec']=results['pmdec']\n",
    "    thisRow['fit_parallax']=results['parallax']\n",
    "\n",
    "    thisRow['rac_error']=results['ra_error']\n",
    "    thisRow['dec_error']=results['dec_error']\n",
    "    thisRow['pmrac_error']=results['pmra_error']\n",
    "    thisRow['pmdec_error']=results['pmdec_error']\n",
    "    thisRow['parallax_error']=results['parallax_error']\n",
    "\n",
    "    thisRow['UWE']=results['UWE']"
   ]
  },
  {
   "cell_type": "markdown",
   "metadata": {},
   "source": [
    "# findEtas is throwing bugs..."
   ]
  },
  {
   "cell_type": "code",
   "execution_count": null,
   "metadata": {},
   "outputs": [],
   "source": []
  }
 ],
 "metadata": {
  "kernelspec": {
   "display_name": "py36",
   "language": "python",
   "name": "py36"
  },
  "language_info": {
   "codemirror_mode": {
    "name": "ipython",
    "version": 3
   },
   "file_extension": ".py",
   "mimetype": "text/x-python",
   "name": "python",
   "nbconvert_exporter": "python",
   "pygments_lexer": "ipython3",
   "version": "3.6.13"
  }
 },
 "nbformat": 4,
 "nbformat_minor": 2
}
