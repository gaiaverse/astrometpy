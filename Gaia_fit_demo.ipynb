{
 "cells": [
  {
   "cell_type": "code",
   "execution_count": 1,
   "metadata": {},
   "outputs": [],
   "source": [
    "# optional but useful for debugging - reimports modules after editing and saving .py files\n",
    "%load_ext autoreload\n",
    "%autoreload 2"
   ]
  },
  {
   "cell_type": "code",
   "execution_count": 2,
   "metadata": {},
   "outputs": [],
   "source": [
    "import numpy as np, pandas as pd, scipy\n",
    "import astropy\n",
    "from astropy import units as u\n",
    "import astromet\n",
    "from astromet.track import design_matrix, design_1d\n",
    "#import dev.astromet.astromet as astromet\n",
    "import matplotlib.pyplot as plt\n",
    "import matplotlib as mpl\n",
    "import tqdm\n",
    "import scanninglaw.times\n",
    "from scanninglaw.source import Source"
   ]
  },
  {
   "cell_type": "code",
   "execution_count": 3,
   "metadata": {},
   "outputs": [],
   "source": [
    "plt.style.use('ggplot')\n",
    "%config InlineBackend.figure_format = 'retina'\n",
    "mpl.rcParams['lines.linewidth'] = 2.5\n",
    "mpl.rcParams['axes.facecolor']='white'\n",
    "mpl.rcParams['axes.edgecolor']='k'\n",
    "mpl.rcParams['axes.linewidth']=2\n",
    "mpl.rcParams['font.family'] = 'serif'\n",
    "mpl.rcParams['text.color'] = 'k'\n",
    "#mpl.rcParams['xtick.major.width'] = 2\n",
    "#mpl.rcParams['ytick.major.width'] = 2\n",
    "mpl.rcParams['xtick.color']='k'\n",
    "mpl.rcParams['ytick.color']='k'\n",
    "mpl.rcParams['axes.labelcolor']='k'\n",
    "\n",
    "mpl.rcParams['font.size']=12\n",
    "mpl.rcParams['xtick.direction']='in'\n",
    "mpl.rcParams['ytick.direction']='in'\n",
    "mpl.rcParams['xtick.major.size'] = 5.5\n",
    "mpl.rcParams['ytick.major.size'] = 5.5\n",
    "mpl.rcParams['xtick.minor.size'] = 3.5\n",
    "mpl.rcParams['ytick.minor.size'] = 3.5"
   ]
  },
  {
   "cell_type": "code",
   "execution_count": 4,
   "metadata": {},
   "outputs": [],
   "source": [
    "dr3Period=34/12 # in years\n",
    "mas=astromet.mas # conversion from degrees to milli-arcseconds"
   ]
  },
  {
   "cell_type": "markdown",
   "metadata": {},
   "source": [
    "# Load in scanning law\n",
    "- Requires scanninglaw installed\n",
    "- Takes up a bit of memory (~1Gb I think)"
   ]
  },
  {
   "cell_type": "code",
   "execution_count": 5,
   "metadata": {},
   "outputs": [
    {
     "name": "stdout",
     "output_type": "stream",
     "text": [
      "Loading auxilliary data ...\n",
      "t = 40.297 s\n",
      "  auxilliary:  19.387 s\n",
      "          sf:   6.082 s\n",
      "interpolator:  14.828 s\n"
     ]
    }
   ],
   "source": [
    "# slooow step - see scanning_law package for details\n",
    "dr3_sl=scanninglaw.times.dr2_sl(version='dr3_nominal')"
   ]
  },
  {
   "cell_type": "markdown",
   "metadata": {},
   "source": [
    "## Along scan error"
   ]
  },
  {
   "cell_type": "code",
   "execution_count": 6,
   "metadata": {},
   "outputs": [],
   "source": [
    "# Individual measurement error\n",
    "sigma_al = np.array(pd.read_csv('astromet/data/scatteral_edr3.csv', usecols=['magbin','var_al_50']))\n",
    "sigma_al_interp = scipy.interpolate.interp1d(sigma_al[:,0], sigma_al[:,1], bounds_error=False)"
   ]
  },
  {
   "cell_type": "markdown",
   "metadata": {},
   "source": [
    "# Single source"
   ]
  },
  {
   "cell_type": "code",
   "execution_count": 16,
   "metadata": {},
   "outputs": [],
   "source": [
    "# System astrometry parameters\n",
    "params=astromet.params()\n",
    "params.ra=360*np.random.rand()\n",
    "params.dec=np.arcsin(-1+2*np.random.rand())*180/np.pi\n",
    "params.parallax=10*np.power(np.random.rand(),-1/3) # all within 100 pc\n",
    "params.pmrac=params.parallax*np.random.normal(scale=6.67)\n",
    "params.pmdec=params.parallax*np.random.normal(scale=6.67)\n",
    "\n",
    "params.rac = params.ra*np.cos(np.deg2rad(params.dec))\n",
    "#params.pmra = params.pmrac/np.cos(np.deg2rad(params.dec))\n",
    "\n",
    "params.phot_g_mean_mag=np.random.rand()*6+15\n",
    "\n",
    "c=Source(params.ra,params.dec,unit='deg')\n",
    "sl=dr3_sl(c, return_times=True, return_angles=True)\n",
    "ts=2010+np.squeeze(np.hstack(sl['times']))/365.25\n",
    "sort=np.argsort(ts)\n",
    "ts=ts[sort]\n",
    "phis=np.squeeze(np.hstack(sl['angles']))[sort]\n",
    "\n",
    "# Get rid of binary signal for the moment\n",
    "params.a = 0."
   ]
  },
  {
   "cell_type": "code",
   "execution_count": 22,
   "metadata": {},
   "outputs": [],
   "source": [
    "drac_track, ddec_track=astromet.track(ts,params)"
   ]
  },
  {
   "cell_type": "code",
   "execution_count": 23,
   "metadata": {},
   "outputs": [
    {
     "data": {
      "text/plain": [
       "<matplotlib.collections.PathCollection at 0x7fdb54c99f98>"
      ]
     },
     "execution_count": 23,
     "metadata": {},
     "output_type": "execute_result"
    },
    {
     "data": {
      "image/png": "[encoded data removed]",
      "text/plain": [
       "<Figure size 432x288 with 1 Axes>"
      ]
     },
     "metadata": {
      "image/png": {
       "height": 246,
       "width": 378
      }
     },
     "output_type": "display_data"
    }
   ],
   "source": [
    "plt.scatter(rac_track, \n",
    "            dec_track, c=ts)"
   ]
  },
  {
   "cell_type": "code",
   "execution_count": 24,
   "metadata": {},
   "outputs": [],
   "source": [
    "x_true = rac_track * np.sin(np.deg2rad(phis)) + dec_track * np.cos(np.deg2rad(phis))\n",
    "x_err = sigma_al_interp(params.phot_g_mean_mag)"
   ]
  },
  {
   "cell_type": "code",
   "execution_count": 25,
   "metadata": {},
   "outputs": [
    {
     "data": {
      "text/plain": [
       "(116.83017697160189,\n",
       " 53.11787711164644,\n",
       " 10.60728762688539,\n",
       " 162.9251119809149,\n",
       " 32.22378559859908)"
      ]
     },
     "execution_count": 25,
     "metadata": {},
     "output_type": "execute_result"
    }
   ],
   "source": [
    "params.ra, params.dec, params.parallax, params.pmrac, params.pmdec"
   ]
  },
  {
   "cell_type": "code",
   "execution_count": 26,
   "metadata": {},
   "outputs": [
    {
     "data": {
      "text/plain": [
       "{'astrometric_matched_transits': 29,\n",
       " 'visibility_periods_used': 17,\n",
       " 'astrometric_n_obs_al': 261,\n",
       " 'astrometric_params_solved': 31,\n",
       " 'ra': 116.83017696788824,\n",
       " 'ra_error': 0.025415453388846418,\n",
       " 'dec': 53.11787710826735,\n",
       " 'dec_error': 0.023541405812770505,\n",
       " 'ra_dec_corr': 0.036220614283925305,\n",
       " 'parallax': 10.588901490919602,\n",
       " 'parallax_error': 0.031872325834593845,\n",
       " 'ra_parallax_corr': 0.010387903690619997,\n",
       " 'dec_parallax_corr': 0.1322594738158224,\n",
       " 'pmra': 162.921346540451,\n",
       " 'pmra_error': 0.029765353839836743,\n",
       " 'ra_pmra_corr': 0.1333355575357683,\n",
       " 'dec_pmra_corr': 0.1435416063486884,\n",
       " 'parallax_pmra_corr': -0.35822798891039453,\n",
       " 'pmdec': 32.18526705042632,\n",
       " 'pmdec_error': 0.025390978251270888,\n",
       " 'ra_pmdec_corr': 0.2007921241878261,\n",
       " 'dec_pmdec_corr': 0.18232858174900463,\n",
       " 'parallax_pmdec_corr': 0.010396917058740945,\n",
       " 'pmra_pmdec_corr': 0.15472860931818708,\n",
       " 'astrometric_excess_noise': 0.034224535455268136,\n",
       " 'astrometric_chi2_al': 272.3663561933159,\n",
       " 'astrometric_n_good_obs_al': 261,\n",
       " 'UWE': 1.0314703480372764}"
      ]
     },
     "execution_count": 26,
     "metadata": {},
     "output_type": "execute_result"
    }
   ],
   "source": [
    "# 'pmra' in gaia data is pmra*cos(dec) \n",
    "gaia_output=astromet.gaia_fit(ts,x_true,phis,x_err,params.ra,params.dec)\n",
    "gaia_output"
   ]
  },
  {
   "cell_type": "markdown",
   "metadata": {},
   "source": [
    "### UWE~1 and astrometric_excess_noise is small (as expected without binary motion)"
   ]
  },
  {
   "cell_type": "markdown",
   "metadata": {},
   "source": [
    "# Binary source"
   ]
  },
  {
   "cell_type": "code",
   "execution_count": 27,
   "metadata": {},
   "outputs": [],
   "source": [
    "# System astrometry parameters\n",
    "params=astromet.params()\n",
    "params.ra=360*np.random.rand()\n",
    "params.dec=np.arcsin(-1+2*np.random.rand())*180/np.pi\n",
    "params.parallax=10*np.power(np.random.rand(),-1/3) # all within 100 pc\n",
    "params.pmrac=params.parallax*np.random.normal(scale=6.67)\n",
    "params.pmdec=params.parallax*np.random.normal(scale=6.67)\n",
    "\n",
    "params.rac = params.ra*np.cos(np.deg2rad(params.dec))\n",
    "\n",
    "params.phot_g_mean_mag=np.random.rand()*6+10\n",
    "\n",
    "c=Source(params.ra,params.dec,unit='deg')\n",
    "sl=dr3_sl(c, return_times=True, return_angles=True)\n",
    "ts=2010+np.squeeze(np.hstack(sl['times']))/365.25\n",
    "sort=np.argsort(ts)\n",
    "ts=ts[sort]\n",
    "phis=np.squeeze(np.hstack(sl['angles']))[sort]\n",
    "\n",
    "params.period=10**(-1.5+3*np.random.rand()) # periods between 0.03 and 30 years\n",
    "params.l=np.random.rand() # uniform light ratio\n",
    "params.q=4*np.random.rand()**2 # mass ratios between 0 and 4 (half less than 1)\n",
    "params.a=10*np.random.rand()**2\n",
    "params.e=np.random.rand()\n",
    "params.vtheta=np.arccos(-1+2*np.random.rand())\n",
    "params.vphi=2*np.pi*np.random.rand()\n",
    "params.vomega=2*np.pi*np.random.rand()\n",
    "orbitalPhase=np.random.rand() # fraction of an orbit completed at t=0\n",
    "params.tperi=params.period*orbitalPhase"
   ]
  },
  {
   "cell_type": "code",
   "execution_count": 28,
   "metadata": {},
   "outputs": [],
   "source": [
    "rac_track, dec_track=astromet.track(ts,params)"
   ]
  },
  {
   "cell_type": "code",
   "execution_count": 29,
   "metadata": {},
   "outputs": [
    {
     "data": {
      "text/plain": [
       "<matplotlib.collections.PathCollection at 0x7fdb5564b898>"
      ]
     },
     "execution_count": 29,
     "metadata": {},
     "output_type": "execute_result"
    },
    {
     "data": {
      "image/png": "[encoded data removed]",
      "text/plain": [
       "<Figure size 432x288 with 1 Axes>"
      ]
     },
     "metadata": {
      "image/png": {
       "height": 273,
       "width": 385
      }
     },
     "output_type": "display_data"
    }
   ],
   "source": [
    "plt.scatter(rac_track-params.rac/astromet.mas, \n",
    "            dec_track-params.dec/astromet.mas, c=ts)"
   ]
  },
  {
   "cell_type": "code",
   "execution_count": 30,
   "metadata": {},
   "outputs": [],
   "source": [
    "x_true = rac_track * np.sin(np.deg2rad(phis)) + dec_track * np.cos(np.deg2rad(phis))\n",
    "x_err = sigma_al_interp(params.phot_g_mean_mag)"
   ]
  },
  {
   "cell_type": "code",
   "execution_count": 31,
   "metadata": {},
   "outputs": [
    {
     "data": {
      "text/plain": [
       "(300.40215783339545,\n",
       " 34.34682943424671,\n",
       " 11.1077870246565,\n",
       " 16.17913907566109,\n",
       " 61.63649816311256)"
      ]
     },
     "execution_count": 31,
     "metadata": {},
     "output_type": "execute_result"
    }
   ],
   "source": [
    "params.ra, params.dec, params.parallax, params.pmrac, params.pmdec"
   ]
  },
  {
   "cell_type": "code",
   "execution_count": 32,
   "metadata": {},
   "outputs": [
    {
     "data": {
      "text/plain": [
       "{'astrometric_matched_transits': 54,\n",
       " 'visibility_periods_used': 27,\n",
       " 'astrometric_n_obs_al': 486,\n",
       " 'astrometric_params_solved': 31,\n",
       " 'ra': 300.4021578397281,\n",
       " 'ra_error': 0.055425391529280874,\n",
       " 'dec': 34.34682925803294,\n",
       " 'dec_error': 0.06159796323965858,\n",
       " 'ra_dec_corr': -0.0885099680897849,\n",
       " 'parallax': 10.874102411804877,\n",
       " 'parallax_error': 0.07445313228870806,\n",
       " 'ra_parallax_corr': 0.012546722890576715,\n",
       " 'dec_parallax_corr': -0.08589045577326765,\n",
       " 'pmra': 15.853119820225876,\n",
       " 'pmra_error': 0.07503857346714243,\n",
       " 'ra_pmra_corr': -0.14909781035303124,\n",
       " 'dec_pmra_corr': 0.03721780348869471,\n",
       " 'parallax_pmra_corr': 0.12091443847508986,\n",
       " 'pmdec': 61.25942513316463,\n",
       " 'pmdec_error': 0.0792086492703763,\n",
       " 'ra_pmdec_corr': 0.04939466104547883,\n",
       " 'dec_pmdec_corr': -0.2118000160434509,\n",
       " 'parallax_pmdec_corr': 0.0866605412178178,\n",
       " 'pmra_pmdec_corr': -0.051256314410551194,\n",
       " 'astrometric_excess_noise': 0.7894537225727558,\n",
       " 'astrometric_chi2_al': 310569.2315844586,\n",
       " 'astrometric_n_good_obs_al': 486,\n",
       " 'UWE': 25.410117633300473}"
      ]
     },
     "execution_count": 32,
     "metadata": {},
     "output_type": "execute_result"
    }
   ],
   "source": [
    "# 'pmra' in gaia data is pmra*cos(dec) \n",
    "gaia_output=astromet.gaia_fit(ts,x_true,phis,x_err,params.ra,params.dec)\n",
    "gaia_output"
   ]
  },
  {
   "cell_type": "markdown",
   "metadata": {},
   "source": [
    "### UWE is bigger and astrometric_excess_noise>0!"
   ]
  },
  {
   "cell_type": "markdown",
   "metadata": {},
   "source": [
    "# Iterate over many sources"
   ]
  },
  {
   "cell_type": "code",
   "execution_count": 34,
   "metadata": {
    "scrolled": true
   },
   "outputs": [
    {
     "name": "stderr",
     "output_type": "stream",
     "text": [
      "/home/andy/py36/lib/python3.6/site-packages/ipykernel_launcher.py:21: TqdmDeprecationWarning: This function will be removed in tqdm==5.0.0\n",
      "Please use `tqdm.notebook.tqdm` instead of `tqdm.tqdm_notebook`\n"
     ]
    },
    {
     "data": {
      "application/vnd.jupyter.widget-view+json": {
       "model_id": "e2c75f460f3e4e469e22472b4933b590",
       "version_major": 2,
       "version_minor": 0
      },
      "text/plain": [
       "  0%|          | 0/100 [00:00<?, ?it/s]"
      ]
     },
     "metadata": {},
     "output_type": "display_data"
    },
    {
     "name": "stderr",
     "output_type": "stream",
     "text": [
      "/home/andy/Documents/Research/Projects/GitRepos/astrometpy/astromet/track.py:419: RuntimeWarning: invalid value encountered in sqrt\n",
      "  return np.sqrt(epsxsq+epsysq-(epsx**2)-(epsy**2))\n"
     ]
    }
   ],
   "source": [
    "nTest=100\n",
    "\n",
    "# Construct Gaia data model\n",
    "astrometry_coords = ['ra','dec','parallax','pmra','pmdec']\n",
    "astrometry_gaia = astrometry_coords + \\\n",
    "                [astrometry_coords[i]+'_error' for i in range(5)] + \\\n",
    "                [astrometry_coords[i]+'_'+astrometry_coords[j]+'_corr' for i in range(5) for j in range(i+1,5)] + \\\n",
    "                ['astrometric_excess_noise', 'astrometric_chi2_al', \n",
    "                 'astrometric_n_good_obs_al', 'astrometric_n_obs_al',\n",
    "                 'astrometric_matched_transits', 'visibility_periods_used', 'astrometric_params_solved']\n",
    "\n",
    "\n",
    "dataNames=['rac_true','dec_true','pmrac_true','pmdec_true','parallax_true','phot_g_mean_mag',\n",
    "           'M_tot','q','l','a','e','P','tPeri',\n",
    "           'vTheta','vPhi','vOmega',\n",
    "           'predict_dTheta','simple_dTheta',\n",
    "           'sigma_al','sigma_ac','UWE']+astrometry_gaia\n",
    "allData=astropy.table.Table(names=dataNames)\n",
    "\n",
    "# we'll generate nTest sets of parameters, and test each with a 0, 2 ,5 and 10 mSun BH\n",
    "for i in tqdm.tqdm_notebook(range(nTest)):\n",
    "    allData.add_row()\n",
    "    thisRow=allData[i]\n",
    "    \n",
    "    # System astrometry & photometry parameters\n",
    "    params=astromet.params()\n",
    "    params.ra=360*np.random.rand()\n",
    "    params.dec=np.arcsin(-1+2*np.random.rand())*180/np.pi\n",
    "    params.parallax=10*np.power(np.random.rand(),-1/3) # all within 100 pc\n",
    "    params.pmra=params.parallax*np.random.normal(scale=6.67)\n",
    "    params.pmdec=params.parallax*np.random.normal(scale=6.67)\n",
    "    params.phot_g_mean_mag=np.random.rand()*6+15    \n",
    "    \n",
    "    params.rac = params.ra*np.cos(np.deg2rad(params.dec))\n",
    "    params.pmra = params.pmrac/np.cos(np.deg2rad(params.dec))\n",
    "    \n",
    "    # Scanning law information\n",
    "    c=Source(params.ra,params.dec,unit='deg')\n",
    "    sl=dr3_sl(c, return_times=True, return_angles=True)\n",
    "    ts=2010+np.squeeze(np.hstack(sl['times']))/365.25\n",
    "    sort=np.argsort(ts)\n",
    "    ts=ts[sort]\n",
    "    phis=np.squeeze(np.hstack(sl['angles']))[sort]\n",
    "    \n",
    "    # Binary parameters\n",
    "    params.period=10**(-1.5+3*np.random.rand()) # periods between 0.03 and 30 years\n",
    "    params.l=np.random.rand() # uniform light ratio\n",
    "    params.q=4*np.random.rand()**2 # mass ratios between 0 and 4 (half less than 1)\n",
    "    params.a=10*np.random.rand()**2\n",
    "    params.e=np.random.rand()\n",
    "    params.vtheta=np.arccos(-1+2*np.random.rand())\n",
    "    params.vphi=2*np.pi*np.random.rand()\n",
    "    params.vomega=2*np.pi*np.random.rand()\n",
    "    orbitalPhase=np.random.rand() # fraction of an orbit completed at t=0\n",
    "    params.tperi=params.period*orbitalPhase\n",
    "    \n",
    "    # Calculate track\n",
    "    drac_track, ddec_track = astromet.track(ts,params)\n",
    "    x_true = drac_track * np.sin(np.deg2rad(phis)) + ddec_track * np.cos(np.deg2rad(phis))\n",
    "    x_err = sigma_al_interp(params.phot_g_mean_mag)\n",
    "    \n",
    "    # Fit with Gaia emulator\n",
    "    gaia_output=astromet.gaia_fit(ts,x_true,phis,x_err,params.ra,params.dec)\n",
    "    # pmra in gaia_output includes the cos(dec) (standard gaia notation)\n",
    "    \n",
    "    for key in astrometry_gaia:\n",
    "        thisRow[key] = gaia_output[key]    \n",
    "    \n",
    "    # Add to dataset\n",
    "    thisRow['rac_true']=1.*params.rac\n",
    "    thisRow['dec_true']=1.*params.dec\n",
    "    thisRow['pmrac_true']=params.pmrac\n",
    "    thisRow['pmdec_true']=params.pmdec\n",
    "    thisRow['parallax_true']=params.parallax\n",
    "    thisRow['phot_g_mean_mag']=params.phot_g_mean_mag\n",
    "    \n",
    "    thisRow['M_tot']=4*(np.pi**2)*astromet.Galt/((params.period**2)*(params.a**3))\n",
    "    thisRow['q']=params.q\n",
    "    thisRow['l']=params.l\n",
    "    thisRow['a']=params.a\n",
    "    thisRow['e']=params.e\n",
    "    thisRow['P']=params.period\n",
    "    thisRow['tPeri']=1.*params.tperi\n",
    "    thisRow['vTheta']=params.vtheta\n",
    "    thisRow['vPhi']=params.vphi\n",
    "    thisRow['vOmega']=params.vomega\n",
    "    \n",
    "    thisRow['simple_dTheta']=astromet.dtheta_simple(params)\n",
    "    #thisRow['predict_dTheta']=astromet.dtheta_full(params,np.min(ts),np.max(ts))  "
   ]
  },
  {
   "cell_type": "markdown",
   "metadata": {},
   "source": [
    "# findEtas is throwing bugs in dtheta_full..."
   ]
  }
 ],
 "metadata": {
  "kernelspec": {
   "display_name": "py36",
   "language": "python",
   "name": "py36"
  },
  "language_info": {
   "codemirror_mode": {
    "name": "ipython",
    "version": 3
   },
   "file_extension": ".py",
   "mimetype": "text/x-python",
   "name": "python",
   "nbconvert_exporter": "python",
   "pygments_lexer": "ipython3",
   "version": "3.6.13"
  }
 },
 "nbformat": 4,
 "nbformat_minor": 2
}
