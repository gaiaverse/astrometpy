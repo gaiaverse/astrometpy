{
 "cells": [
  {
   "cell_type": "code",
   "execution_count": 3,
   "metadata": {},
   "outputs": [],
   "source": [
    "# optional but useful for debugging - reimports modules after editing and saving .py files\n",
    "%load_ext autoreload\n",
    "%autoreload 2"
   ]
  },
  {
   "cell_type": "code",
   "execution_count": 147,
   "metadata": {},
   "outputs": [],
   "source": [
    "import numpy as np, pandas as pd, scipy\n",
    "import astropy\n",
    "from astropy import units as u\n",
    "import astromet\n",
    "from astromet.track import design_matrix, design_1d\n",
    "#import dev.astromet.astromet as astromet\n",
    "import matplotlib.pyplot as plt\n",
    "import matplotlib as mpl\n",
    "import tqdm\n",
    "import scanninglaw.times\n",
    "from scanninglaw.source import Source"
   ]
  },
  {
   "cell_type": "code",
   "execution_count": 5,
   "metadata": {},
   "outputs": [],
   "source": [
    "plt.style.use('ggplot')\n",
    "%config InlineBackend.figure_format = 'retina'\n",
    "mpl.rcParams['lines.linewidth'] = 2.5\n",
    "mpl.rcParams['axes.facecolor']='white'\n",
    "mpl.rcParams['axes.edgecolor']='k'\n",
    "mpl.rcParams['axes.linewidth']=2\n",
    "mpl.rcParams['font.family'] = 'serif'\n",
    "mpl.rcParams['text.color'] = 'k'\n",
    "#mpl.rcParams['xtick.major.width'] = 2\n",
    "#mpl.rcParams['ytick.major.width'] = 2\n",
    "mpl.rcParams['xtick.color']='k'\n",
    "mpl.rcParams['ytick.color']='k'\n",
    "mpl.rcParams['axes.labelcolor']='k'\n",
    "\n",
    "mpl.rcParams['font.size']=12\n",
    "mpl.rcParams['xtick.direction']='in'\n",
    "mpl.rcParams['ytick.direction']='in'\n",
    "mpl.rcParams['xtick.major.size'] = 5.5\n",
    "mpl.rcParams['ytick.major.size'] = 5.5\n",
    "mpl.rcParams['xtick.minor.size'] = 3.5\n",
    "mpl.rcParams['ytick.minor.size'] = 3.5"
   ]
  },
  {
   "cell_type": "code",
   "execution_count": 10,
   "metadata": {},
   "outputs": [],
   "source": [
    "dr3Period=34/12 # in years\n",
    "mas=astromet.mas # conversion from degrees to milli-arcseconds"
   ]
  },
  {
   "cell_type": "markdown",
   "metadata": {},
   "source": [
    "# Load in scanning law\n",
    "- Requires scanninglaw installed\n",
    "- Takes up a bit of memory (~1Gb I think)"
   ]
  },
  {
   "cell_type": "code",
   "execution_count": 9,
   "metadata": {},
   "outputs": [
    {
     "name": "stdout",
     "output_type": "stream",
     "text": [
      "Loading auxilliary data ...\n",
      "t = 55.569 s\n",
      "  auxilliary:  26.760 s\n",
      "          sf:   9.482 s\n",
      "interpolator:  19.327 s\n"
     ]
    }
   ],
   "source": [
    "# slooow step - see scanning_law package for details\n",
    "dr3_sl=scanninglaw.times.dr2_sl(version='dr3_nominal')"
   ]
  },
  {
   "cell_type": "markdown",
   "metadata": {},
   "source": [
    "## Along scan error"
   ]
  },
  {
   "cell_type": "code",
   "execution_count": 30,
   "metadata": {},
   "outputs": [],
   "source": [
    "# Individual measurement error\n",
    "sigma_al = np.array(pd.read_csv('astromet/data/scatteral_edr3.csv', usecols=['magbin','var_al_50']))\n",
    "sigma_al_interp = scipy.interpolate.interp1d(sigma_al[:,0], sigma_al[:,1], bounds_error=False)"
   ]
  },
  {
   "cell_type": "markdown",
   "metadata": {},
   "source": [
    "# Single source"
   ]
  },
  {
   "cell_type": "code",
   "execution_count": 197,
   "metadata": {},
   "outputs": [],
   "source": [
    "# System astrometry parameters\n",
    "params=astromet.params()\n",
    "params.ra=360*np.random.rand()\n",
    "params.dec=np.arcsin(-1+2*np.random.rand())*180/np.pi\n",
    "params.parallax=10*np.power(np.random.rand(),-1/3) # all within 100 pc\n",
    "params.pmrac=params.parallax*np.random.normal(scale=6.67)\n",
    "params.pmdec=params.parallax*np.random.normal(scale=6.67)\n",
    "\n",
    "params.rac = params.ra*np.cos(np.deg2rad(params.dec))\n",
    "params.pmra = params.pmrac/np.cos(np.deg2rad(params.dec))\n",
    "\n",
    "params.phot_g_mean_mag=np.random.rand()*6+15\n",
    "\n",
    "c=Source(params.ra,params.dec,unit='deg')\n",
    "sl=dr3_sl(c, return_times=True, return_angles=True)\n",
    "ts=2010+np.squeeze(np.hstack(sl['times']))/365.25\n",
    "sort=np.argsort(ts)\n",
    "ts=ts[sort]\n",
    "phis=np.squeeze(np.hstack(sl['angles']))[sort]\n",
    "\n",
    "# Get rid of binary signal for the moment\n",
    "params.a = 0."
   ]
  },
  {
   "cell_type": "code",
   "execution_count": 208,
   "metadata": {},
   "outputs": [],
   "source": [
    "rac_track, dec_track=astromet.track(ts,params)"
   ]
  },
  {
   "cell_type": "code",
   "execution_count": 214,
   "metadata": {},
   "outputs": [
    {
     "data": {
      "text/plain": [
       "<matplotlib.collections.PathCollection at 0x7faef9c3e4e0>"
      ]
     },
     "execution_count": 214,
     "metadata": {},
     "output_type": "execute_result"
    },
    {
     "data": {
      "image/png": "[encoded data removed]",
      "text/plain": [
       "<Figure size 432x288 with 1 Axes>"
      ]
     },
     "metadata": {
      "image/png": {
       "height": 246,
       "width": 385
      }
     },
     "output_type": "display_data"
    }
   ],
   "source": [
    "plt.scatter(rac_track-params.rac/astromet.mas, \n",
    "            dec_track-params.dec/astromet.mas, c=ts)"
   ]
  },
  {
   "cell_type": "code",
   "execution_count": 186,
   "metadata": {},
   "outputs": [],
   "source": [
    "x_true = ra_track * np.sin(np.deg2rad(phis)) + dec_track * np.cos(np.deg2rad(phis))\n",
    "x_err = sigma_al_interp(params.phot_g_mean_mag)"
   ]
  },
  {
   "cell_type": "code",
   "execution_count": 190,
   "metadata": {},
   "outputs": [
    {
     "data": {
      "text/plain": [
       "(14.56861937534089,\n",
       " 53.72654637959002,\n",
       " 10.08187672248991,\n",
       " -52.53427704131727,\n",
       " -38.208095088822155)"
      ]
     },
     "execution_count": 190,
     "metadata": {},
     "output_type": "execute_result"
    }
   ],
   "source": [
    "params.ra, params.dec, params.parallax, params.pmrac, params.pmdec"
   ]
  },
  {
   "cell_type": "code",
   "execution_count": 191,
   "metadata": {},
   "outputs": [
    {
     "data": {
      "text/plain": [
       "{'astrometric_matched_transits': 75,\n",
       " 'visibility_periods_used': 22,\n",
       " 'astrometric_n_obs_al': 675,\n",
       " 'astrometric_params_solved': 31,\n",
       " 'ra': 14.568619375340637,\n",
       " 'ra_error': 6.905897409983877e-07,\n",
       " 'dec': 53.72654637958961,\n",
       " 'dec_error': 7.411714131655532e-07,\n",
       " 'ra_dec_corr': -0.41629093611965395,\n",
       " 'parallax': 10.08187736684977,\n",
       " 'parallax_error': 1.1722473524833496e-06,\n",
       " 'ra_parallax_corr': -0.25676074097349477,\n",
       " 'dec_parallax_corr': 0.24492836287094766,\n",
       " 'pmra': -52.53427655276854,\n",
       " 'pmra_error': 9.034212634823377e-07,\n",
       " 'ra_pmra_corr': -0.492211344825912,\n",
       " 'dec_pmra_corr': 0.12152244434809197,\n",
       " 'parallax_pmra_corr': 0.2533887971762855,\n",
       " 'pmdec': -38.20809613430423,\n",
       " 'pmdec_error': 8.231466236951325e-07,\n",
       " 'ra_pmdec_corr': 0.22390250841650777,\n",
       " 'dec_pmdec_corr': 0.08895082446083627,\n",
       " 'parallax_pmdec_corr': -0.1898921125501104,\n",
       " 'pmra_pmdec_corr': -0.5718034710129806,\n",
       " 'astrometric_excess_noise': 0.0,\n",
       " 'astrometric_chi2_al': 662.3853585004852,\n",
       " 'astrometric_n_good_obs_al': 675,\n",
       " 'UWE': 0.9943011935191267}"
      ]
     },
     "execution_count": 191,
     "metadata": {},
     "output_type": "execute_result"
    }
   ],
   "source": [
    "# 'pmra' in gaia data is pmra*cos(dec) \n",
    "results=astromet.gaia_fit(ts,x_true,phis,x_err*0.0001,params.ra,params.dec)\n",
    "results"
   ]
  },
  {
   "cell_type": "markdown",
   "metadata": {},
   "source": [
    "### UWE and astrometric_excess_noise are small!"
   ]
  },
  {
   "cell_type": "markdown",
   "metadata": {},
   "source": [
    "# Binary source"
   ]
  },
  {
   "cell_type": "code",
   "execution_count": 223,
   "metadata": {},
   "outputs": [],
   "source": [
    "# System astrometry parameters\n",
    "params=astromet.params()\n",
    "params.ra=360*np.random.rand()\n",
    "params.dec=np.arcsin(-1+2*np.random.rand())*180/np.pi\n",
    "params.parallax=10*np.power(np.random.rand(),-1/3) # all within 100 pc\n",
    "params.pmrac=params.parallax*np.random.normal(scale=6.67)\n",
    "params.pmdec=params.parallax*np.random.normal(scale=6.67)\n",
    "\n",
    "params.rac = params.ra*np.cos(np.deg2rad(params.dec))\n",
    "params.pmra = params.pmrac/np.cos(np.deg2rad(params.dec))\n",
    "\n",
    "params.phot_g_mean_mag=np.random.rand()*6+15\n",
    "\n",
    "c=Source(params.ra,params.dec,unit='deg')\n",
    "sl=dr3_sl(c, return_times=True, return_angles=True)\n",
    "ts=2010+np.squeeze(np.hstack(sl['times']))/365.25\n",
    "sort=np.argsort(ts)\n",
    "ts=ts[sort]\n",
    "phis=np.squeeze(np.hstack(sl['angles']))[sort]\n",
    "\n",
    "params.period=10**(-1.5+3*np.random.rand()) # periods between 0.03 and 30 years\n",
    "params.l=np.random.rand() # uniform light ratio\n",
    "params.q=4*np.random.rand()**2 # mass ratios between 0 and 4 (half less than 1)\n",
    "params.a=10*np.random.rand()**2\n",
    "params.e=np.random.rand()\n",
    "params.vtheta=np.arccos(-1+2*np.random.rand())\n",
    "params.vphi=2*np.pi*np.random.rand()\n",
    "params.vomega=2*np.pi*np.random.rand()\n",
    "orbitalPhase=np.random.rand() # fraction of an orbit completed at t=0\n",
    "params.tperi=params.period*orbitalPhase"
   ]
  },
  {
   "cell_type": "code",
   "execution_count": 224,
   "metadata": {},
   "outputs": [],
   "source": [
    "rac_track, dec_track=astromet.track(ts,params)"
   ]
  },
  {
   "cell_type": "code",
   "execution_count": 225,
   "metadata": {},
   "outputs": [
    {
     "data": {
      "text/plain": [
       "<matplotlib.collections.PathCollection at 0x7faef9d767f0>"
      ]
     },
     "execution_count": 225,
     "metadata": {},
     "output_type": "execute_result"
    },
    {
     "data": {
      "image/png": "[encoded data removed]",
      "text/plain": [
       "<Figure size 432x288 with 1 Axes>"
      ]
     },
     "metadata": {
      "image/png": {
       "height": 246,
       "width": 378
      }
     },
     "output_type": "display_data"
    }
   ],
   "source": [
    "plt.scatter(rac_track-params.rac/astromet.mas, \n",
    "            dec_track-params.dec/astromet.mas, c=ts)"
   ]
  },
  {
   "cell_type": "code",
   "execution_count": 227,
   "metadata": {},
   "outputs": [],
   "source": [
    "x_true = rac_track * np.sin(np.deg2rad(phis)) + dec_track * np.cos(np.deg2rad(phis))\n",
    "x_err = sigma_al_interp(params.phot_g_mean_mag)"
   ]
  },
  {
   "cell_type": "code",
   "execution_count": 228,
   "metadata": {},
   "outputs": [
    {
     "data": {
      "text/plain": [
       "(152.3966888741061,\n",
       " -34.31061132265252,\n",
       " 10.950536188458639,\n",
       " 23.406452732178735,\n",
       " -48.53502767156851)"
      ]
     },
     "execution_count": 228,
     "metadata": {},
     "output_type": "execute_result"
    }
   ],
   "source": [
    "params.ra, params.dec, params.parallax, params.pmrac, params.pmdec"
   ]
  },
  {
   "cell_type": "code",
   "execution_count": 229,
   "metadata": {},
   "outputs": [
    {
     "data": {
      "text/plain": [
       "{'astrometric_matched_transits': 53,\n",
       " 'visibility_periods_used': 20,\n",
       " 'astrometric_n_obs_al': 477,\n",
       " 'astrometric_params_solved': 31,\n",
       " 'ra': 152.39668874156544,\n",
       " 'ra_error': 0.01920825531487972,\n",
       " 'dec': -34.31061124165928,\n",
       " 'dec_error': 0.02582984282684921,\n",
       " 'ra_dec_corr': -0.1393927606117821,\n",
       " 'parallax': 10.91805430173136,\n",
       " 'parallax_error': 0.03145981792332477,\n",
       " 'ra_parallax_corr': 0.10651643047858549,\n",
       " 'dec_parallax_corr': 0.0556268773234365,\n",
       " 'pmra': 23.444923677537677,\n",
       " 'pmra_error': 0.025070280919443796,\n",
       " 'ra_pmra_corr': 0.12336088570571958,\n",
       " 'dec_pmra_corr': 0.23625413206545456,\n",
       " 'parallax_pmra_corr': 0.11290309465104004,\n",
       " 'pmdec': -48.601208545052835,\n",
       " 'pmdec_error': 0.03205141998324989,\n",
       " 'ra_pmdec_corr': 0.248746682583452,\n",
       " 'dec_pmdec_corr': -0.2554422543000783,\n",
       " 'parallax_pmdec_corr': 0.1212876763154208,\n",
       " 'pmra_pmdec_corr': -0.08157389684193221,\n",
       " 'astrometric_excess_noise': 0.10041575951933687,\n",
       " 'astrometric_chi2_al': 792406199.8631344,\n",
       " 'astrometric_n_good_obs_al': 477,\n",
       " 'UWE': 1295.6954482536723}"
      ]
     },
     "execution_count": 229,
     "metadata": {},
     "output_type": "execute_result"
    }
   ],
   "source": [
    "# 'pmra' in gaia data is pmra*cos(dec) \n",
    "results=astromet.gaia_fit(ts,x_true,phis,x_err*0.0001,params.ra,params.dec)\n",
    "results"
   ]
  },
  {
   "cell_type": "markdown",
   "metadata": {},
   "source": [
    "### UWE is huuuuge!"
   ]
  },
  {
   "cell_type": "markdown",
   "metadata": {},
   "source": [
    "# Iterate over many sources"
   ]
  },
  {
   "cell_type": "code",
   "execution_count": 222,
   "metadata": {
    "scrolled": true
   },
   "outputs": [
    {
     "data": {
      "application/vnd.jupyter.widget-view+json": {
       "model_id": "6de6d084c7f745ceaa313a2aa83efb69",
       "version_major": 2,
       "version_minor": 0
      },
      "text/plain": [
       "  0%|          | 0/100 [00:00<?, ?it/s]"
      ]
     },
     "metadata": {},
     "output_type": "display_data"
    },
    {
     "name": "stderr",
     "output_type": "stream",
     "text": [
      "/home/andy/Documents/Research/Projects/GitRepos/astrometpy/astromet/track.py:292: RuntimeWarning: invalid value encountered in sqrt\n",
      "  return np.sqrt(epsxsq+epsysq-(epsx**2)-(epsy**2))\n",
      "/home/andy/Documents/Research/Projects/GitRepos/astrometpy/astromet/track.py:327: RuntimeWarning: invalid value encountered in sqrt\n",
      "  return np.sqrt(epsxsq+epsysq-(epsx**2)-(epsy**2))\n"
     ]
    }
   ],
   "source": [
    "nTest=100\n",
    "dataNames=('rac','dec','pmrac','pmdec','parallax','phot_g_mean_mag',\n",
    "           'M_tot','q','l','a','e','P','tPeri',\n",
    "           'vTheta','vPhi','vOmega',\n",
    "           'predict_dTheta','simple_dTheta',\n",
    "           'N_obs','sigma_al','sigma_ac',\n",
    "           'fit_rac','fit_dec','fit_pmrac','fit_pmdec','fit_parallax',\n",
    "           'rac_error','dec_error','pmrac_error','pmdec_error','parallax_error',\n",
    "           'N_vis','frac_good','AEN','UWE'\n",
    "          )\n",
    "allData=astropy.table.Table(names=dataNames)\n",
    "\n",
    "# we'll generate nTest sets of parameters, and test each with a 0, 2 ,5 and 10 mSun BH\n",
    "for i in tqdm.notebook.tqdm(range(nTest)):\n",
    "    allData.add_row()\n",
    "    thisRow=allData[i]\n",
    "    \n",
    "    # System astrometry & photometry parameters\n",
    "    params=astromet.params()\n",
    "    params.ra=360*np.random.rand()\n",
    "    params.dec=np.arcsin(-1+2*np.random.rand())*180/np.pi\n",
    "    params.parallax=10*np.power(np.random.rand(),-1/3) # all within 100 pc\n",
    "    params.pmra=params.parallax*np.random.normal(scale=6.67)\n",
    "    params.pmdec=params.parallax*np.random.normal(scale=6.67)\n",
    "    params.phot_g_mean_mag=np.random.rand()*6+15    \n",
    "    \n",
    "    params.rac = params.ra*np.cos(np.deg2rad(params.dec))\n",
    "    params.pmra = params.pmrac/np.cos(np.deg2rad(params.dec))\n",
    "    \n",
    "    # Scanning law information\n",
    "    c=Source(params.ra,params.dec,unit='deg')\n",
    "    sl=dr3_sl(c, return_times=True, return_angles=True)\n",
    "    ts=2010+np.squeeze(np.hstack(sl['times']))/365.25\n",
    "    sort=np.argsort(ts)\n",
    "    ts=ts[sort]\n",
    "    phis=np.squeeze(np.hstack(sl['angles']))[sort]\n",
    "    \n",
    "    # Binary parameters\n",
    "    params.period=10**(-1.5+3*np.random.rand()) # periods between 0.03 and 30 years\n",
    "    params.l=np.random.rand() # uniform light ratio\n",
    "    params.q=4*np.random.rand()**2 # mass ratios between 0 and 4 (half less than 1)\n",
    "    params.a=10*np.random.rand()**2\n",
    "    params.e=np.random.rand()\n",
    "    params.vtheta=np.arccos(-1+2*np.random.rand())\n",
    "    params.vphi=2*np.pi*np.random.rand()\n",
    "    params.vomega=2*np.pi*np.random.rand()\n",
    "    orbitalPhase=np.random.rand() # fraction of an orbit completed at t=0\n",
    "    params.tperi=params.period*orbitalPhase\n",
    "    \n",
    "    # Calculate track\n",
    "    rac_track, dec_track = astromet.track(ts,params)\n",
    "    x_true = rac_track * np.sin(np.deg2rad(phis)) + dec_track * np.cos(np.deg2rad(phis))\n",
    "    x_err = sigma_al_interp(params.phot_g_mean_mag)\n",
    "    \n",
    "    # Fit with Gaia emulator\n",
    "    results=astromet.gaia_fit(ts,x_true,phis,x_err,params.ra,params.dec)\n",
    "    # pmra in results includes the cos(dec) (standard gaia notation)\n",
    "    \n",
    "    # Add to dataset\n",
    "    thisRow['rac']=1.*params.rac\n",
    "    thisRow['dec']=1.*params.dec\n",
    "    thisRow['pmrac']=params.pmrac\n",
    "    thisRow['pmdec']=params.pmdec\n",
    "    thisRow['parallax']=params.parallax\n",
    "    thisRow['phot_g_mean_mag']=params.phot_g_mean_mag\n",
    "    \n",
    "    thisRow['M_tot']=4*(np.pi**2)*astromet.Galt/((params.period**2)*(params.a**3))\n",
    "    thisRow['q']=params.q\n",
    "    thisRow['l']=params.l\n",
    "    thisRow['a']=params.a\n",
    "    thisRow['e']=params.e\n",
    "    thisRow['P']=params.period\n",
    "    thisRow['tPeri']=1.*params.tperi\n",
    "    thisRow['vTheta']=params.vtheta\n",
    "    thisRow['vPhi']=params.vphi\n",
    "    thisRow['vOmega']=params.vomega\n",
    "    \n",
    "    thisRow['simple_dTheta']=astromet.dtheta_simple(params)\n",
    "    thisRow['predict_dTheta']=astromet.dtheta_full(params,np.min(ts),np.max(ts))  \n",
    "    \n",
    "    thisRow['fit_rac']=results['ra']*np.cos(np.deg2rad(results['dec']))\n",
    "    thisRow['fit_dec']=results['dec']\n",
    "    thisRow['fit_pmrac']=results['pmra']\n",
    "    thisRow['fit_pmdec']=results['pmdec']\n",
    "    thisRow['fit_parallax']=results['parallax']\n",
    "\n",
    "    thisRow['rac_error']=results['ra_error']\n",
    "    thisRow['dec_error']=results['dec_error']\n",
    "    thisRow['pmrac_error']=results['pmra_error']\n",
    "    thisRow['pmdec_error']=results['pmdec_error']\n",
    "    thisRow['parallax_error']=results['parallax_error']\n",
    "\n",
    "    thisRow['UWE']=results['UWE']"
   ]
  }
 ],
 "metadata": {
  "kernelspec": {
   "display_name": "py36",
   "language": "python",
   "name": "py36"
  },
  "language_info": {
   "codemirror_mode": {
    "name": "ipython",
    "version": 3
   },
   "file_extension": ".py",
   "mimetype": "text/x-python",
   "name": "python",
   "nbconvert_exporter": "python",
   "pygments_lexer": "ipython3",
   "version": "3.6.13"
  }
 },
 "nbformat": 4,
 "nbformat_minor": 2
}
