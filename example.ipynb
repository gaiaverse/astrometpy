{
 "cells": [
  {
   "cell_type": "code",
   "execution_count": 348,
   "metadata": {},
   "outputs": [
    {
     "name": "stdout",
     "output_type": "stream",
     "text": [
      "The autoreload extension is already loaded. To reload it, use:\n",
      "  %reload_ext autoreload\n"
     ]
    }
   ],
   "source": [
    "# optional but useful for debugging - reimports modules after editing and saving .py files\n",
    "%load_ext autoreload\n",
    "%autoreload 2"
   ]
  },
  {
   "cell_type": "code",
   "execution_count": 349,
   "metadata": {},
   "outputs": [],
   "source": [
    "import numpy as np\n",
    "import astropy\n",
    "from astropy import units as u\n",
    "import astromet\n",
    "import matplotlib.pyplot as plt\n",
    "import matplotlib as mpl"
   ]
  },
  {
   "cell_type": "code",
   "execution_count": 350,
   "metadata": {},
   "outputs": [],
   "source": [
    "dr2period=22/12 # in years\n",
    "edr3Period=34/12 # in years\n",
    "mas=astromet.mas # conversion from degrees to milli-arcseconds"
   ]
  },
  {
   "cell_type": "code",
   "execution_count": 370,
   "metadata": {},
   "outputs": [
    {
     "name": "stdout",
     "output_type": "stream",
     "text": [
      "RA and Dec [degrees]: \n",
      " 298.59564640266143 -59.445436355244325\n",
      "Proper motion in RA and Dec [mas/yr]: \n",
      " -8.659146426085726 -6.361063713482618\n",
      "Parallax [mas]: \n",
      " 4.184122374756781\n",
      "Mass of brightest source [mSun]: \n",
      " 0.6994486729700221\n",
      "Semi-major axis [AU]: \n",
      " 1.908027125841747\n",
      "Eccentricity [dimensionless]: \n",
      " 0.8245063389081532\n",
      "Light (l<1) and mass (q) ratios of binary [dimensionless]: \n",
      " 0 0\n",
      "On-sky projection angles (vPhi and vTheta) of binary [radians]: \n",
      " 2.284503909006297 2.598170043411652\n",
      "On-sky orientation angle of binary [radians]: \n",
      " 5.449041224840059\n",
      "Time of first binary periapse [years]: \n",
      " 2016.3886432501504\n",
      "\n",
      "Period [years]: \n",
      " 3.1434281947297515\n"
     ]
    }
   ],
   "source": [
    "# times when system is observed [years, CE]\n",
    "ts=2016+np.sort(edr3Period*(-0.5+np.random.rand(64)))\n",
    "\n",
    "# an object wich holds all the necessary parameters to find the astrometric path\n",
    "params=astromet.params()\n",
    "\n",
    "# For this example we'll generate a random binary system\n",
    "\n",
    "# center of mass parameters\n",
    "params.RA=360*np.random.rand()\n",
    "params.Dec=90*(-1+2*np.random.rand())\n",
    "print('RA and Dec [degrees]: \\n',params.RA,params.Dec)\n",
    "params.pmRA=10*np.random.randn()\n",
    "params.pmDec=10*np.random.randn()\n",
    "print('Proper motion in RA and Dec [mas/yr]: \\n',params.pmRA,params.pmDec)\n",
    "params.pllx=1+9*np.random.rand()\n",
    "print('Parallax [mas]: \\n',params.pllx)\n",
    "\n",
    "# binary parameters\n",
    "params.M=10*np.random.rand()**2\n",
    "print('Mass of brightest source [mSun]: \\n',params.M)\n",
    "params.a=10*np.random.rand()\n",
    "print('Semi-major axis [AU]: \\n',params.a)\n",
    "params.e=np.random.rand()\n",
    "print('Eccentricity [dimensionless]: \\n',params.e)\n",
    "params.q=0#10*(np.random.rand()**4)\n",
    "params.l=0#np.random.rand()\n",
    "print('Light (l<1) and mass (q) ratios of binary [dimensionless]: \\n',params.l,params.q)\n",
    "params.vPhi=2*np.pi*np.random.rand()\n",
    "params.vTheta=np.pi*np.random.rand()\n",
    "print('On-sky projection angles (vPhi and vTheta) of binary [radians]: \\n',params.vPhi,params.vTheta)\n",
    "params.vOmega=2*np.pi*np.random.rand()\n",
    "print('On-sky orientation angle of binary [radians]: \\n',params.vOmega)\n",
    "params.tPeri=2016+astromet.period(params)*np.random.rand()\n",
    "print('Time of first binary periapse [years]: \\n',params.tPeri)\n",
    "\n",
    "print('\\nPeriod [years]: \\n',astromet.period(params))"
   ]
  },
  {
   "cell_type": "code",
   "execution_count": 371,
   "metadata": {},
   "outputs": [
    {
     "data": {
      "image/png": "[encoded data removed]",
      "text/plain": [
       "<Figure size 432x288 with 1 Axes>"
      ]
     },
     "metadata": {
      "needs_background": "light"
     },
     "output_type": "display_data"
    },
    {
     "name": "stdout",
     "output_type": "stream",
     "text": [
      "original parameters [mas(/yr)]: \n",
      " 0 0 -8.659146426085726 -6.361063713482618 4.184122374756781\n",
      "derived parameters [mas(/yr)]: \n",
      " [ 1.09377033 -0.36275043 -8.65478872 -6.37898002  4.12244456]\n",
      "derived parameter error [mas]: \n",
      " [0.12607553 0.12608891 0.14675509 0.1438367  0.0925162 ]\n",
      "\n",
      "covariance matrix [mas**2]: \n",
      " [[ 1.58950402e-02  8.39619004e-05 -1.70373374e-03  3.46291129e-05\n",
      "  -8.39263883e-04]\n",
      " [ 8.39619004e-05  1.58984124e-02  2.71840641e-04 -1.93483868e-03\n",
      "  -8.56286872e-04]\n",
      " [-1.70373374e-03  2.71840641e-04  2.15370556e-02  1.12117523e-04\n",
      "  -2.71725665e-03]\n",
      " [ 3.46291129e-05 -1.93483868e-03  1.12117523e-04  2.06889953e-02\n",
      "  -3.53165598e-04]\n",
      " [-8.39263883e-04 -8.56286872e-04 -2.71725665e-03 -3.53165598e-04\n",
      "   8.55924702e-03]]\n",
      "-0.08870530128479004\n",
      "298.59564640266143\n"
     ]
    }
   ],
   "source": [
    "# on sky paths [degrees]\n",
    "ras,decs=astromet.path(ts,params,comOnly=True)\n",
    "\n",
    "plt.scatter((ras-params.RA)/astromet.mas,(decs-params.Dec)/astromet.mas)\n",
    "plt.show()\n",
    "\n",
    "# adding random (1/3 mas) error\n",
    "astError=1\n",
    "ras=ras+astError*mas*np.random.randn(ras.size)/np.sqrt(2)\n",
    "decs=decs+astError*mas*np.random.randn(ras.size)/np.sqrt(2)\n",
    "\n",
    "# fitting for offset from first obs (delta RA_0 & delta Dec_0), proper motion and parralax\n",
    "fitParams,fitCovariance=astromet.fit(ts,ras,decs,astError=astError)\n",
    "print('original parameters [mas(/yr)]: \\n',0,0,params.pmRA,params.pmDec,params.pllx)\n",
    "print('derived parameters [mas(/yr)]: \\n',fitParams)\n",
    "# extracting single parameter errors from covariance matrix\n",
    "fitErrors=np.sqrt(np.diagonal(fitCovariance))/astError\n",
    "print('derived parameter error [mas]: \\n',fitErrors)\n",
    "# note that parameters may not agree within error bars due to binary contribution\n",
    "\n",
    "print('\\ncovariance matrix [mas**2]: \\n',fitCovariance)\n",
    "\n",
    "\n",
    "## mistake somewhere in this calibration\n",
    "## ruwe is sqrt magnitude of covariance matrix normalised by error\n",
    "#uwe=np.sqrt(np.linalg.norm(fitCovariance))/astError\n",
    "#print('UWE [dimensionless]: \\n',uwe)\n",
    "\n",
    "print(np.median(ras)/mas+fitParams[0]-params.RA/mas)\n",
    "print(params.RA)"
   ]
  },
  {
   "cell_type": "code",
   "execution_count": 372,
   "metadata": {},
   "outputs": [
    {
     "data": {
      "image/png": "[encoded data removed]",
      "text/plain": [
       "<Figure size 864x576 with 1 Axes>"
      ]
     },
     "metadata": {
      "needs_background": "light"
     },
     "output_type": "display_data"
    }
   ],
   "source": [
    "# plotting on sky motion\n",
    "qFig=plt.figure(figsize=(12,8))\n",
    "qPl=plt.gca() # defining matplotlib axis object on which to plot\n",
    "\n",
    "cs=mpl.cm.twilight_shifted(np.interp(ts,[ts[0],ts[-1]],[0,1])) # optional, but I like to color by time\n",
    "cs[:,3]=0.5\n",
    "\n",
    "# plotting the datapoints (ideally as error ellipses -\n",
    "# if that fails comment out the for loop and use the simpler scatter plot instead)\n",
    "for i in range(ras.size):\n",
    "    ell = mpl.patches.Ellipse(xy=(ras[i]*np.cos(decs[i]*np.pi/180), decs[i]),\n",
    "                  width=2*astError*mas, height=2*astError*mas,\n",
    "                  angle=0)\n",
    "    ell.set_facecolor(cs[i])\n",
    "    ell.set_edgecolor('k')\n",
    "    qPl.add_artist(ell)\n",
    "#qPl.scatter(ras*np.cos(decs*np.pi/180),decs,s=50,c=cs,zorder=2,edgecolors='k',lw=1)\n",
    "\n",
    "# uniformly sampled times for plotting true paths\n",
    "tUniform=np.linspace(ts[0],ts[-1],1000)\n",
    "\n",
    "# optional - adding the centre of mass motion (black) for reference\n",
    "comRas,comDecs=astromet.path(tUniform,params,comOnly=True)\n",
    "qPl.plot(comRas*np.cos(comDecs*np.pi/180),comDecs,lw=1,c='k',alpha=0.5,zorder=1)\n",
    "\n",
    "# optional - adding the centre of mass motion (red) for reference\n",
    "trueRas,trueDecs=astromet.path(tUniform,params)\n",
    "qPl.plot(trueRas*np.cos(trueDecs*np.pi/180),trueDecs,lw=2,c='darkred',alpha=0.5,zorder=1,ls='--')\n",
    "\n",
    "# optional - adding fitted motion (blue)\n",
    "for i in range(32):\n",
    "    sampleParams = np.random.multivariate_normal(fitParams, fitCovariance)\n",
    "    \n",
    "    fitPs=astromet.params()\n",
    "    fitPs.RA=np.median(ras)+mas*sampleParams[0]\n",
    "    fitPs.Dec=np.median(decs)+mas*sampleParams[1]\n",
    "    fitPs.pmRA=sampleParams[2]\n",
    "    fitPs.pmDec=sampleParams[3]\n",
    "    fitPs.pllx=sampleParams[4]\n",
    "    bestRas,bestDecs=astromet.path(tUniform,fitPs,comOnly=True)\n",
    "    qPl.plot(bestRas*np.cos(bestDecs*np.pi/180),bestDecs,lw=1,c='darkblue',alpha=0.1,zorder=0)\n",
    "fitPs=astromet.params()\n",
    "fitPs.RA=np.median(ras)+mas*fitParams[0]\n",
    "fitPs.Dec=np.median(decs)+mas*fitParams[1]\n",
    "fitPs.pmRA=fitParams[2]\n",
    "fitPs.pmDec=fitParams[3]\n",
    "fitPs.pllx=fitParams[4]\n",
    "bestRas,bestDecs=astromet.path(tUniform,fitPs,comOnly=True)\n",
    "qPl.plot(bestRas*np.cos(bestDecs*np.pi/180),bestDecs,lw=2,c='darkblue',alpha=0.8,zorder=0,ls='--')\n",
    "\n",
    "# adding initial position and proper motion as arrow\n",
    "#qPl.arrow(np.median(ras*np.cos(decs*np.pi/180)),np.median(decs),mas*params.pmRA,mas*params.pmDec,color='k',alpha=0.5)\n",
    "\n",
    "qPl.set_xlabel('RA cos(Dec) [mas]')\n",
    "qPl.set_ylabel('Dec [mas]')\n",
    "qPl.set_aspect('equal')\n",
    "\n",
    "plt.show()"
   ]
  },
  {
   "cell_type": "code",
   "execution_count": 373,
   "metadata": {},
   "outputs": [
    {
     "name": "stdout",
     "output_type": "stream",
     "text": [
      "Period:  3.1434281947297515\n",
      "eccentricity:  0.8245063389081532\n",
      "____________UWE obs:  1.0161110129695214\n",
      "____________UWE predicted:  1.0\n",
      "____________UWE simple:  1.0\n"
     ]
    }
   ],
   "source": [
    "print('Period: ',astromet.period(params))\n",
    "print('eccentricity: ',params.e)\n",
    "uweobs=astromet.uwe(ts,ras,decs,fitParams,astError=1)\n",
    "print('____________UWE obs: ',uweobs)\n",
    "dthetapred=astromet.dThetaEstimate(params,ts[0],ts[-1])\n",
    "print('____________UWE predicted: ',np.sqrt(1+(dthetapred)**2))\n",
    "dthetasimp=astromet.dThetaEstimate(params,ts[0],ts[0]+params.P)\n",
    "print('____________UWE simple: ',np.sqrt(1+(dthetasimp)**2))"
   ]
  },
  {
   "cell_type": "code",
   "execution_count": null,
   "metadata": {},
   "outputs": [],
   "source": []
  },
  {
   "cell_type": "code",
   "execution_count": null,
   "metadata": {},
   "outputs": [],
   "source": []
  }
 ],
 "metadata": {
  "kernelspec": {
   "display_name": "Python 3",
   "language": "python",
   "name": "python3"
  },
  "language_info": {
   "codemirror_mode": {
    "name": "ipython",
    "version": 3
   },
   "file_extension": ".py",
   "mimetype": "text/x-python",
   "name": "python",
   "nbconvert_exporter": "python",
   "pygments_lexer": "ipython3",
   "version": "3.7.7"
  }
 },
 "nbformat": 4,
 "nbformat_minor": 4
}
